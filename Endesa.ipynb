{
 "cells": [
  {
   "cell_type": "code",
   "execution_count": 10,
   "metadata": {},
   "outputs": [],
   "source": [
    "\n",
    "from pyspark import SparkConf, SparkContext\n",
    "from pyspark.sql import SQLContext\n",
    "\n",
    "sqlCtx=SQLContext(sc)\n",
    "df = sqlCtx.read.option(\"delimiter\", \"|\").load('DATATHON_secuencial.csv', \n",
    "                     format='com.databricks.spark.csv', header='true',separator='|',\n",
    "                     inferSchema='true')"
   ]
  },
  {
   "cell_type": "code",
   "execution_count": 11,
   "metadata": {},
   "outputs": [
    {
     "data": {
      "text/plain": [
       "['DIA',\n",
       " 'H1',\n",
       " 'ACTIVA_H1',\n",
       " 'REACTIVA_H1',\n",
       " 'H2',\n",
       " 'ACTIVA_H2',\n",
       " 'REACTIVA_H2',\n",
       " 'H3',\n",
       " 'ACTIVA_H3',\n",
       " 'REACTIVA_H3',\n",
       " 'H4',\n",
       " 'ACTIVA_H4',\n",
       " 'REACTIVA_H4',\n",
       " 'H5',\n",
       " 'ACTIVA_H5',\n",
       " 'REACTIVA_H5',\n",
       " 'H6',\n",
       " 'ACTIVA_H6',\n",
       " 'REACTIVA_H6',\n",
       " 'H7',\n",
       " 'ACTIVA_H7',\n",
       " 'REACTIVA_H7',\n",
       " 'H8',\n",
       " 'ACTIVA_H8',\n",
       " 'REACTIVA_H8',\n",
       " 'H9',\n",
       " 'ACTIVA_H9',\n",
       " 'REACTIVA_H9',\n",
       " 'H10',\n",
       " 'ACTIVA_H10',\n",
       " 'REACTIVA_H10',\n",
       " 'H11',\n",
       " 'ACTIVA_H11',\n",
       " 'REACTIVA_H11',\n",
       " 'H12',\n",
       " 'ACTIVA_H12',\n",
       " 'REACTIVA_H12',\n",
       " 'H13',\n",
       " 'ACTIVA_H13',\n",
       " 'REACTIVA_H13',\n",
       " 'H14',\n",
       " 'ACTIVA_H14',\n",
       " 'REACTIVA_H14',\n",
       " 'H15',\n",
       " 'ACTIVA_H15',\n",
       " 'REACTIVA_H15',\n",
       " 'H16',\n",
       " 'ACTIVA_H16',\n",
       " 'REACTIVA_H16',\n",
       " 'H17',\n",
       " 'ACTIVA_H17',\n",
       " 'REACTIVA_H17',\n",
       " 'H18',\n",
       " 'ACTIVA_H18',\n",
       " 'REACTIVA_H18',\n",
       " 'H19',\n",
       " 'ACTIVA_H19',\n",
       " 'REACTIVA_H19',\n",
       " 'H20',\n",
       " 'ACTIVA_H20',\n",
       " 'REACTIVA_H20',\n",
       " 'H21',\n",
       " 'ACTIVA_H21',\n",
       " 'REACTIVA_H21',\n",
       " 'H22',\n",
       " 'ACTIVA_H22',\n",
       " 'REACTIVA_H22',\n",
       " 'H23',\n",
       " 'ACTIVA_H23',\n",
       " 'REACTIVA_H23',\n",
       " 'H24',\n",
       " 'ACTIVA_H24',\n",
       " 'REACTIVA_H24',\n",
       " 'H25',\n",
       " 'ACTIVA_H25',\n",
       " 'REACTIVA_H25',\n",
       " 'DE_MUNICIP',\n",
       " 'FECHA_ALTA_STRO',\n",
       " 'TARGET_TENENCIA_CUPS',\n",
       " 'IDENTIFICADOR',\n",
       " 'CNAE',\n",
       " 'PRODUCTO',\n",
       " 'MERCADO']"
      ]
     },
     "execution_count": 11,
     "metadata": {},
     "output_type": "execute_result"
    }
   ],
   "source": [
    "df.columns"
   ]
  },
  {
   "cell_type": "code",
   "execution_count": null,
   "metadata": {},
   "outputs": [],
   "source": []
  },
  {
   "cell_type": "code",
   "execution_count": null,
   "metadata": {},
   "outputs": [],
   "source": []
  }
 ],
 "metadata": {
  "kernelspec": {
   "display_name": "Python 2",
   "language": "python",
   "name": "python2"
  },
  "language_info": {
   "codemirror_mode": {
    "name": "ipython",
    "version": 2
   },
   "file_extension": ".py",
   "mimetype": "text/x-python",
   "name": "python",
   "nbconvert_exporter": "python",
   "pygments_lexer": "ipython2",
   "version": "2.7.14"
  }
 },
 "nbformat": 4,
 "nbformat_minor": 2
}
