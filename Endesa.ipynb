{
 "cells": [
  {
   "cell_type": "code",
   "execution_count": 4,
   "metadata": {},
   "outputs": [],
   "source": [
    "\n",
    "from pyspark import SparkConf, SparkContext\n",
    "from pyspark.sql import SQLContext\n",
    "\n",
    "sqlCtx=SQLContext(sc)\n",
    "df = sqlCtx.read.option(\"delimiter\", \"|\").load('DATATHON_secuencial.csv', \n",
    "                     format='com.databricks.spark.csv', header='true',separator='|',\n",
    "                     inferSchema='true')"
   ]
  },
  {
   "cell_type": "code",
   "execution_count": 5,
   "metadata": {},
   "outputs": [
    {
     "data": {
      "text/plain": [
       "['DIA',\n",
       " 'H1',\n",
       " 'ACTIVA_H1',\n",
       " 'REACTIVA_H1',\n",
       " 'H2',\n",
       " 'ACTIVA_H2',\n",
       " 'REACTIVA_H2',\n",
       " 'H3',\n",
       " 'ACTIVA_H3',\n",
       " 'REACTIVA_H3',\n",
       " 'H4',\n",
       " 'ACTIVA_H4',\n",
       " 'REACTIVA_H4',\n",
       " 'H5',\n",
       " 'ACTIVA_H5',\n",
       " 'REACTIVA_H5',\n",
       " 'H6',\n",
       " 'ACTIVA_H6',\n",
       " 'REACTIVA_H6',\n",
       " 'H7',\n",
       " 'ACTIVA_H7',\n",
       " 'REACTIVA_H7',\n",
       " 'H8',\n",
       " 'ACTIVA_H8',\n",
       " 'REACTIVA_H8',\n",
       " 'H9',\n",
       " 'ACTIVA_H9',\n",
       " 'REACTIVA_H9',\n",
       " 'H10',\n",
       " 'ACTIVA_H10',\n",
       " 'REACTIVA_H10',\n",
       " 'H11',\n",
       " 'ACTIVA_H11',\n",
       " 'REACTIVA_H11',\n",
       " 'H12',\n",
       " 'ACTIVA_H12',\n",
       " 'REACTIVA_H12',\n",
       " 'H13',\n",
       " 'ACTIVA_H13',\n",
       " 'REACTIVA_H13',\n",
       " 'H14',\n",
       " 'ACTIVA_H14',\n",
       " 'REACTIVA_H14',\n",
       " 'H15',\n",
       " 'ACTIVA_H15',\n",
       " 'REACTIVA_H15',\n",
       " 'H16',\n",
       " 'ACTIVA_H16',\n",
       " 'REACTIVA_H16',\n",
       " 'H17',\n",
       " 'ACTIVA_H17',\n",
       " 'REACTIVA_H17',\n",
       " 'H18',\n",
       " 'ACTIVA_H18',\n",
       " 'REACTIVA_H18',\n",
       " 'H19',\n",
       " 'ACTIVA_H19',\n",
       " 'REACTIVA_H19',\n",
       " 'H20',\n",
       " 'ACTIVA_H20',\n",
       " 'REACTIVA_H20',\n",
       " 'H21',\n",
       " 'ACTIVA_H21',\n",
       " 'REACTIVA_H21',\n",
       " 'H22',\n",
       " 'ACTIVA_H22',\n",
       " 'REACTIVA_H22',\n",
       " 'H23',\n",
       " 'ACTIVA_H23',\n",
       " 'REACTIVA_H23',\n",
       " 'H24',\n",
       " 'ACTIVA_H24',\n",
       " 'REACTIVA_H24',\n",
       " 'H25',\n",
       " 'ACTIVA_H25',\n",
       " 'REACTIVA_H25',\n",
       " 'DE_MUNICIP',\n",
       " 'FECHA_ALTA_STRO',\n",
       " 'TARGET_TENENCIA_CUPS',\n",
       " 'IDENTIFICADOR',\n",
       " 'CNAE',\n",
       " 'PRODUCTO',\n",
       " 'MERCADO']"
      ]
     },
     "execution_count": 5,
     "metadata": {},
     "output_type": "execute_result"
    }
   ],
   "source": [
    "df.columns"
   ]
  },
  {
   "cell_type": "code",
   "execution_count": 6,
   "metadata": {},
   "outputs": [
    {
     "data": {
      "text/plain": [
       "32870474"
      ]
     },
     "execution_count": 6,
     "metadata": {},
     "output_type": "execute_result"
    }
   ],
   "source": [
    "df.count()\n",
    "\n"
   ]
  },
  {
   "cell_type": "code",
   "execution_count": 7,
   "metadata": {},
   "outputs": [],
   "source": [
    "dtf=df.na.drop()"
   ]
  },
  {
   "cell_type": "code",
   "execution_count": 8,
   "metadata": {},
   "outputs": [
    {
     "data": {
      "text/plain": [
       "24728862"
      ]
     },
     "execution_count": 8,
     "metadata": {},
     "output_type": "execute_result"
    }
   ],
   "source": [
    "dtf.count()"
   ]
  },
  {
   "cell_type": "code",
   "execution_count": 9,
   "metadata": {},
   "outputs": [
    {
     "name": "stdout",
     "output_type": "stream",
     "text": [
      "root\n",
      " |-- DIA: integer (nullable = true)\n",
      " |-- H1: integer (nullable = true)\n",
      " |-- ACTIVA_H1: integer (nullable = true)\n",
      " |-- REACTIVA_H1: integer (nullable = true)\n",
      " |-- H2: integer (nullable = true)\n",
      " |-- ACTIVA_H2: integer (nullable = true)\n",
      " |-- REACTIVA_H2: integer (nullable = true)\n",
      " |-- H3: integer (nullable = true)\n",
      " |-- ACTIVA_H3: integer (nullable = true)\n",
      " |-- REACTIVA_H3: integer (nullable = true)\n",
      " |-- H4: integer (nullable = true)\n",
      " |-- ACTIVA_H4: integer (nullable = true)\n",
      " |-- REACTIVA_H4: integer (nullable = true)\n",
      " |-- H5: integer (nullable = true)\n",
      " |-- ACTIVA_H5: integer (nullable = true)\n",
      " |-- REACTIVA_H5: integer (nullable = true)\n",
      " |-- H6: integer (nullable = true)\n",
      " |-- ACTIVA_H6: integer (nullable = true)\n",
      " |-- REACTIVA_H6: integer (nullable = true)\n",
      " |-- H7: integer (nullable = true)\n",
      " |-- ACTIVA_H7: integer (nullable = true)\n",
      " |-- REACTIVA_H7: integer (nullable = true)\n",
      " |-- H8: integer (nullable = true)\n",
      " |-- ACTIVA_H8: integer (nullable = true)\n",
      " |-- REACTIVA_H8: integer (nullable = true)\n",
      " |-- H9: integer (nullable = true)\n",
      " |-- ACTIVA_H9: integer (nullable = true)\n",
      " |-- REACTIVA_H9: integer (nullable = true)\n",
      " |-- H10: integer (nullable = true)\n",
      " |-- ACTIVA_H10: integer (nullable = true)\n",
      " |-- REACTIVA_H10: integer (nullable = true)\n",
      " |-- H11: integer (nullable = true)\n",
      " |-- ACTIVA_H11: integer (nullable = true)\n",
      " |-- REACTIVA_H11: integer (nullable = true)\n",
      " |-- H12: integer (nullable = true)\n",
      " |-- ACTIVA_H12: integer (nullable = true)\n",
      " |-- REACTIVA_H12: integer (nullable = true)\n",
      " |-- H13: integer (nullable = true)\n",
      " |-- ACTIVA_H13: integer (nullable = true)\n",
      " |-- REACTIVA_H13: integer (nullable = true)\n",
      " |-- H14: integer (nullable = true)\n",
      " |-- ACTIVA_H14: integer (nullable = true)\n",
      " |-- REACTIVA_H14: integer (nullable = true)\n",
      " |-- H15: integer (nullable = true)\n",
      " |-- ACTIVA_H15: integer (nullable = true)\n",
      " |-- REACTIVA_H15: integer (nullable = true)\n",
      " |-- H16: integer (nullable = true)\n",
      " |-- ACTIVA_H16: integer (nullable = true)\n",
      " |-- REACTIVA_H16: integer (nullable = true)\n",
      " |-- H17: integer (nullable = true)\n",
      " |-- ACTIVA_H17: integer (nullable = true)\n",
      " |-- REACTIVA_H17: integer (nullable = true)\n",
      " |-- H18: integer (nullable = true)\n",
      " |-- ACTIVA_H18: integer (nullable = true)\n",
      " |-- REACTIVA_H18: integer (nullable = true)\n",
      " |-- H19: integer (nullable = true)\n",
      " |-- ACTIVA_H19: integer (nullable = true)\n",
      " |-- REACTIVA_H19: integer (nullable = true)\n",
      " |-- H20: integer (nullable = true)\n",
      " |-- ACTIVA_H20: integer (nullable = true)\n",
      " |-- REACTIVA_H20: integer (nullable = true)\n",
      " |-- H21: integer (nullable = true)\n",
      " |-- ACTIVA_H21: integer (nullable = true)\n",
      " |-- REACTIVA_H21: integer (nullable = true)\n",
      " |-- H22: integer (nullable = true)\n",
      " |-- ACTIVA_H22: integer (nullable = true)\n",
      " |-- REACTIVA_H22: integer (nullable = true)\n",
      " |-- H23: integer (nullable = true)\n",
      " |-- ACTIVA_H23: integer (nullable = true)\n",
      " |-- REACTIVA_H23: integer (nullable = true)\n",
      " |-- H24: integer (nullable = true)\n",
      " |-- ACTIVA_H24: integer (nullable = true)\n",
      " |-- REACTIVA_H24: integer (nullable = true)\n",
      " |-- H25: integer (nullable = true)\n",
      " |-- ACTIVA_H25: integer (nullable = true)\n",
      " |-- REACTIVA_H25: integer (nullable = true)\n",
      " |-- DE_MUNICIP: string (nullable = true)\n",
      " |-- FECHA_ALTA_STRO: string (nullable = true)\n",
      " |-- TARGET_TENENCIA_CUPS: double (nullable = true)\n",
      " |-- IDENTIFICADOR: integer (nullable = true)\n",
      " |-- CNAE: string (nullable = true)\n",
      " |-- PRODUCTO: string (nullable = true)\n",
      " |-- MERCADO: string (nullable = true)\n",
      "\n"
     ]
    }
   ],
   "source": [
    "dtf.printSchema()"
   ]
  },
  {
   "cell_type": "code",
   "execution_count": 10,
   "metadata": {},
   "outputs": [
    {
     "data": {
      "text/plain": [
       "[Row(DIA=20150222, H1=1, ACTIVA_H1=1922, REACTIVA_H1=0, H2=2, ACTIVA_H2=523, REACTIVA_H2=0, H3=3, ACTIVA_H3=125, REACTIVA_H3=0, H4=4, ACTIVA_H4=297, REACTIVA_H4=0, H5=5, ACTIVA_H5=124, REACTIVA_H5=0, H6=6, ACTIVA_H6=150, REACTIVA_H6=0, H7=7, ACTIVA_H7=284, REACTIVA_H7=0, H8=8, ACTIVA_H8=458, REACTIVA_H8=0, H9=9, ACTIVA_H9=2016, REACTIVA_H9=0, H10=10, ACTIVA_H10=344, REACTIVA_H10=0, H11=11, ACTIVA_H11=2379, REACTIVA_H11=0, H12=12, ACTIVA_H12=2250, REACTIVA_H12=0, H13=13, ACTIVA_H13=978, REACTIVA_H13=0, H14=14, ACTIVA_H14=1946, REACTIVA_H14=0, H15=15, ACTIVA_H15=1796, REACTIVA_H15=0, H16=16, ACTIVA_H16=2986, REACTIVA_H16=0, H17=17, ACTIVA_H17=1595, REACTIVA_H17=0, H18=18, ACTIVA_H18=421, REACTIVA_H18=0, H19=19, ACTIVA_H19=689, REACTIVA_H19=0, H20=20, ACTIVA_H20=1504, REACTIVA_H20=0, H21=21, ACTIVA_H21=814, REACTIVA_H21=0, H22=22, ACTIVA_H22=1755, REACTIVA_H22=0, H23=23, ACTIVA_H23=2188, REACTIVA_H23=0, H24=24, ACTIVA_H24=1237, REACTIVA_H24=0, H25=25, ACTIVA_H25=0, REACTIVA_H25=0, DE_MUNICIP=u'SANT BOI DE LLOBREGAT', FECHA_ALTA_STRO=u'Q21993', TARGET_TENENCIA_CUPS=0.0, IDENTIFICADOR=18005, CNAE=u'T1', PRODUCTO=u'P2', MERCADO=u'M1'),\n",
       " Row(DIA=20150323, H1=1, ACTIVA_H1=0, REACTIVA_H1=0, H2=2, ACTIVA_H2=0, REACTIVA_H2=0, H3=3, ACTIVA_H3=0, REACTIVA_H3=0, H4=4, ACTIVA_H4=0, REACTIVA_H4=0, H5=5, ACTIVA_H5=0, REACTIVA_H5=0, H6=6, ACTIVA_H6=0, REACTIVA_H6=0, H7=7, ACTIVA_H7=0, REACTIVA_H7=0, H8=8, ACTIVA_H8=0, REACTIVA_H8=0, H9=9, ACTIVA_H9=0, REACTIVA_H9=0, H10=10, ACTIVA_H10=0, REACTIVA_H10=0, H11=11, ACTIVA_H11=0, REACTIVA_H11=0, H12=12, ACTIVA_H12=0, REACTIVA_H12=0, H13=13, ACTIVA_H13=0, REACTIVA_H13=0, H14=14, ACTIVA_H14=0, REACTIVA_H14=0, H15=15, ACTIVA_H15=0, REACTIVA_H15=0, H16=16, ACTIVA_H16=0, REACTIVA_H16=0, H17=17, ACTIVA_H17=0, REACTIVA_H17=0, H18=18, ACTIVA_H18=0, REACTIVA_H18=0, H19=19, ACTIVA_H19=0, REACTIVA_H19=0, H20=20, ACTIVA_H20=0, REACTIVA_H20=0, H21=21, ACTIVA_H21=0, REACTIVA_H21=0, H22=22, ACTIVA_H22=0, REACTIVA_H22=0, H23=23, ACTIVA_H23=0, REACTIVA_H23=0, H24=24, ACTIVA_H24=0, REACTIVA_H24=0, H25=25, ACTIVA_H25=0, REACTIVA_H25=0, DE_MUNICIP=u'TORROX', FECHA_ALTA_STRO=u'Q32003', TARGET_TENENCIA_CUPS=0.0, IDENTIFICADOR=50311, CNAE=u'T1', PRODUCTO=u'P1', MERCADO=u'M1')]"
      ]
     },
     "execution_count": 10,
     "metadata": {},
     "output_type": "execute_result"
    }
   ],
   "source": [
    "dtf.take(2)"
   ]
  },
  {
   "cell_type": "code",
   "execution_count": 14,
   "metadata": {},
   "outputs": [],
   "source": [
    "dtf=dtf.drop(\"FECHA_ALTA_STRO\")\n",
    "dtf=dtf.drop(\"PRODUCTO\")\n"
   ]
  },
  {
   "cell_type": "code",
   "execution_count": null,
   "metadata": {},
   "outputs": [],
   "source": []
  },
  {
   "cell_type": "code",
   "execution_count": 26,
   "metadata": {},
   "outputs": [],
   "source": [
    "dd=dtf.filter(dtf.MERCADO==\"M2\")"
   ]
  },
  {
   "cell_type": "code",
   "execution_count": 27,
   "metadata": {},
   "outputs": [
    {
     "data": {
      "text/plain": [
       "6041843"
      ]
     },
     "execution_count": 27,
     "metadata": {},
     "output_type": "execute_result"
    }
   ],
   "source": [
    "dd.count()"
   ]
  },
  {
   "cell_type": "code",
   "execution_count": 28,
   "metadata": {},
   "outputs": [],
   "source": [
    "dd.write.save(path=\"datos\",format=\"com.databricks.spark.csv\",header=\"true\")"
   ]
  },
  {
   "cell_type": "code",
   "execution_count": 29,
   "metadata": {},
   "outputs": [],
   "source": [
    "dd1=sqlContext.read.load('datos',format='com.databricks.spark.csv',\n",
    "                                header='true',inferSchema='true')"
   ]
  },
  {
   "cell_type": "code",
   "execution_count": 35,
   "metadata": {},
   "outputs": [],
   "source": [
    "dd1=dd1.drop('TARGET_TENENCIA_CUPS')\n",
    "dd1=dd1.drop('MERCADO')\n",
    "dd1=dd1.drop('IDENTIFICADOR')\n",
    "dd1=dd1.filter(dd1.CNAE==\"T1\")"
   ]
  },
  {
   "cell_type": "code",
   "execution_count": 37,
   "metadata": {},
   "outputs": [],
   "source": [
    "dd1.write.save(path=\"datos2\",format=\"com.databricks.spark.csv\",header=\"true\")"
   ]
  },
  {
   "cell_type": "code",
   "execution_count": 38,
   "metadata": {},
   "outputs": [],
   "source": [
    "dd1=sqlContext.read.load('datos2',format='com.databricks.spark.csv',\n",
    "                                header='true',inferSchema='true')\n"
   ]
  },
  {
   "cell_type": "code",
   "execution_count": null,
   "metadata": {},
   "outputs": [],
   "source": []
  }
 ],
 "metadata": {
  "kernelspec": {
   "display_name": "Python 2",
   "language": "python",
   "name": "python2"
  },
  "language_info": {
   "codemirror_mode": {
    "name": "ipython",
    "version": 2
   },
   "file_extension": ".py",
   "mimetype": "text/x-python",
   "name": "python",
   "nbconvert_exporter": "python",
   "pygments_lexer": "ipython2",
   "version": "2.7.14"
  }
 },
 "nbformat": 4,
 "nbformat_minor": 2
}
