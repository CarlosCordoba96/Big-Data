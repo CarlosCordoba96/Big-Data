{
 "cells": [
  {
   "cell_type": "code",
   "execution_count": 1,
   "metadata": {},
   "outputs": [
    {
     "ename": "SyntaxError",
     "evalue": "invalid syntax (<ipython-input-1-895d3a76243b>, line 2)",
     "output_type": "error",
     "traceback": [
      "\u001b[0;36m  File \u001b[0;32m\"<ipython-input-1-895d3a76243b>\"\u001b[0;36m, line \u001b[0;32m2\u001b[0m\n\u001b[0;31m    from  import SparkConf, SparkContext\u001b[0m\n\u001b[0m               ^\u001b[0m\n\u001b[0;31mSyntaxError\u001b[0m\u001b[0;31m:\u001b[0m invalid syntax\n"
     ]
    }
   ],
   "source": [
    "\n",
    "from  import SparkConf, SparkContext\n",
    "from pyspark.sql import SQLContext\n",
    "\n",
    "sqlCtx=SQLContext(sc)\n",
    "df = sqlCtx.read.option(\"delimiter\", \"|\").load('DATATHON_secuencial.csv', \n",
    "                     format='com.databricks.spark.csv', header='true',separator='|',\n",
    "                     inferSchema='true')"
   ]
  },
  {
   "cell_type": "code",
   "execution_count": 5,
   "metadata": {},
   "outputs": [
    {
     "data": {
      "text/plain": [
       "['DIA',\n",
       " 'H1',\n",
       " 'ACTIVA_H1',\n",
       " 'REACTIVA_H1',\n",
       " 'H2',\n",
       " 'ACTIVA_H2',\n",
       " 'REACTIVA_H2',\n",
       " 'H3',\n",
       " 'ACTIVA_H3',\n",
       " 'REACTIVA_H3',\n",
       " 'H4',\n",
       " 'ACTIVA_H4',\n",
       " 'REACTIVA_H4',\n",
       " 'H5',\n",
       " 'ACTIVA_H5',\n",
       " 'REACTIVA_H5',\n",
       " 'H6',\n",
       " 'ACTIVA_H6',\n",
       " 'REACTIVA_H6',\n",
       " 'H7',\n",
       " 'ACTIVA_H7',\n",
       " 'REACTIVA_H7',\n",
       " 'H8',\n",
       " 'ACTIVA_H8',\n",
       " 'REACTIVA_H8',\n",
       " 'H9',\n",
       " 'ACTIVA_H9',\n",
       " 'REACTIVA_H9',\n",
       " 'H10',\n",
       " 'ACTIVA_H10',\n",
       " 'REACTIVA_H10',\n",
       " 'H11',\n",
       " 'ACTIVA_H11',\n",
       " 'REACTIVA_H11',\n",
       " 'H12',\n",
       " 'ACTIVA_H12',\n",
       " 'REACTIVA_H12',\n",
       " 'H13',\n",
       " 'ACTIVA_H13',\n",
       " 'REACTIVA_H13',\n",
       " 'H14',\n",
       " 'ACTIVA_H14',\n",
       " 'REACTIVA_H14',\n",
       " 'H15',\n",
       " 'ACTIVA_H15',\n",
       " 'REACTIVA_H15',\n",
       " 'H16',\n",
       " 'ACTIVA_H16',\n",
       " 'REACTIVA_H16',\n",
       " 'H17',\n",
       " 'ACTIVA_H17',\n",
       " 'REACTIVA_H17',\n",
       " 'H18',\n",
       " 'ACTIVA_H18',\n",
       " 'REACTIVA_H18',\n",
       " 'H19',\n",
       " 'ACTIVA_H19',\n",
       " 'REACTIVA_H19',\n",
       " 'H20',\n",
       " 'ACTIVA_H20',\n",
       " 'REACTIVA_H20',\n",
       " 'H21',\n",
       " 'ACTIVA_H21',\n",
       " 'REACTIVA_H21',\n",
       " 'H22',\n",
       " 'ACTIVA_H22',\n",
       " 'REACTIVA_H22',\n",
       " 'H23',\n",
       " 'ACTIVA_H23',\n",
       " 'REACTIVA_H23',\n",
       " 'H24',\n",
       " 'ACTIVA_H24',\n",
       " 'REACTIVA_H24',\n",
       " 'H25',\n",
       " 'ACTIVA_H25',\n",
       " 'REACTIVA_H25',\n",
       " 'DE_MUNICIP',\n",
       " 'FECHA_ALTA_STRO',\n",
       " 'TARGET_TENENCIA_CUPS',\n",
       " 'IDENTIFICADOR',\n",
       " 'CNAE',\n",
       " 'PRODUCTO',\n",
       " 'MERCADO']"
      ]
     },
     "execution_count": 5,
     "metadata": {},
     "output_type": "execute_result"
    }
   ],
   "source": [
    "df.columns"
   ]
  },
  {
   "cell_type": "code",
   "execution_count": 6,
   "metadata": {},
   "outputs": [
    {
     "data": {
      "text/plain": [
       "32870474"
      ]
     },
     "execution_count": 6,
     "metadata": {},
     "output_type": "execute_result"
    }
   ],
   "source": [
    "df.count()\n",
    "\n"
   ]
  },
  {
   "cell_type": "code",
   "execution_count": 7,
   "metadata": {},
   "outputs": [],
   "source": [
    "dtf=df.na.drop()"
   ]
  },
  {
   "cell_type": "code",
   "execution_count": 8,
   "metadata": {},
   "outputs": [
    {
     "data": {
      "text/plain": [
       "24728862"
      ]
     },
     "execution_count": 8,
     "metadata": {},
     "output_type": "execute_result"
    }
   ],
   "source": [
    "dtf.count()"
   ]
  },
  {
   "cell_type": "code",
   "execution_count": 9,
   "metadata": {},
   "outputs": [
    {
     "name": "stdout",
     "output_type": "stream",
     "text": [
      "root\n",
      " |-- DIA: integer (nullable = true)\n",
      " |-- H1: integer (nullable = true)\n",
      " |-- ACTIVA_H1: integer (nullable = true)\n",
      " |-- REACTIVA_H1: integer (nullable = true)\n",
      " |-- H2: integer (nullable = true)\n",
      " |-- ACTIVA_H2: integer (nullable = true)\n",
      " |-- REACTIVA_H2: integer (nullable = true)\n",
      " |-- H3: integer (nullable = true)\n",
      " |-- ACTIVA_H3: integer (nullable = true)\n",
      " |-- REACTIVA_H3: integer (nullable = true)\n",
      " |-- H4: integer (nullable = true)\n",
      " |-- ACTIVA_H4: integer (nullable = true)\n",
      " |-- REACTIVA_H4: integer (nullable = true)\n",
      " |-- H5: integer (nullable = true)\n",
      " |-- ACTIVA_H5: integer (nullable = true)\n",
      " |-- REACTIVA_H5: integer (nullable = true)\n",
      " |-- H6: integer (nullable = true)\n",
      " |-- ACTIVA_H6: integer (nullable = true)\n",
      " |-- REACTIVA_H6: integer (nullable = true)\n",
      " |-- H7: integer (nullable = true)\n",
      " |-- ACTIVA_H7: integer (nullable = true)\n",
      " |-- REACTIVA_H7: integer (nullable = true)\n",
      " |-- H8: integer (nullable = true)\n",
      " |-- ACTIVA_H8: integer (nullable = true)\n",
      " |-- REACTIVA_H8: integer (nullable = true)\n",
      " |-- H9: integer (nullable = true)\n",
      " |-- ACTIVA_H9: integer (nullable = true)\n",
      " |-- REACTIVA_H9: integer (nullable = true)\n",
      " |-- H10: integer (nullable = true)\n",
      " |-- ACTIVA_H10: integer (nullable = true)\n",
      " |-- REACTIVA_H10: integer (nullable = true)\n",
      " |-- H11: integer (nullable = true)\n",
      " |-- ACTIVA_H11: integer (nullable = true)\n",
      " |-- REACTIVA_H11: integer (nullable = true)\n",
      " |-- H12: integer (nullable = true)\n",
      " |-- ACTIVA_H12: integer (nullable = true)\n",
      " |-- REACTIVA_H12: integer (nullable = true)\n",
      " |-- H13: integer (nullable = true)\n",
      " |-- ACTIVA_H13: integer (nullable = true)\n",
      " |-- REACTIVA_H13: integer (nullable = true)\n",
      " |-- H14: integer (nullable = true)\n",
      " |-- ACTIVA_H14: integer (nullable = true)\n",
      " |-- REACTIVA_H14: integer (nullable = true)\n",
      " |-- H15: integer (nullable = true)\n",
      " |-- ACTIVA_H15: integer (nullable = true)\n",
      " |-- REACTIVA_H15: integer (nullable = true)\n",
      " |-- H16: integer (nullable = true)\n",
      " |-- ACTIVA_H16: integer (nullable = true)\n",
      " |-- REACTIVA_H16: integer (nullable = true)\n",
      " |-- H17: integer (nullable = true)\n",
      " |-- ACTIVA_H17: integer (nullable = true)\n",
      " |-- REACTIVA_H17: integer (nullable = true)\n",
      " |-- H18: integer (nullable = true)\n",
      " |-- ACTIVA_H18: integer (nullable = true)\n",
      " |-- REACTIVA_H18: integer (nullable = true)\n",
      " |-- H19: integer (nullable = true)\n",
      " |-- ACTIVA_H19: integer (nullable = true)\n",
      " |-- REACTIVA_H19: integer (nullable = true)\n",
      " |-- H20: integer (nullable = true)\n",
      " |-- ACTIVA_H20: integer (nullable = true)\n",
      " |-- REACTIVA_H20: integer (nullable = true)\n",
      " |-- H21: integer (nullable = true)\n",
      " |-- ACTIVA_H21: integer (nullable = true)\n",
      " |-- REACTIVA_H21: integer (nullable = true)\n",
      " |-- H22: integer (nullable = true)\n",
      " |-- ACTIVA_H22: integer (nullable = true)\n",
      " |-- REACTIVA_H22: integer (nullable = true)\n",
      " |-- H23: integer (nullable = true)\n",
      " |-- ACTIVA_H23: integer (nullable = true)\n",
      " |-- REACTIVA_H23: integer (nullable = true)\n",
      " |-- H24: integer (nullable = true)\n",
      " |-- ACTIVA_H24: integer (nullable = true)\n",
      " |-- REACTIVA_H24: integer (nullable = true)\n",
      " |-- H25: integer (nullable = true)\n",
      " |-- ACTIVA_H25: integer (nullable = true)\n",
      " |-- REACTIVA_H25: integer (nullable = true)\n",
      " |-- DE_MUNICIP: string (nullable = true)\n",
      " |-- FECHA_ALTA_STRO: string (nullable = true)\n",
      " |-- TARGET_TENENCIA_CUPS: double (nullable = true)\n",
      " |-- IDENTIFICADOR: integer (nullable = true)\n",
      " |-- CNAE: string (nullable = true)\n",
      " |-- PRODUCTO: string (nullable = true)\n",
      " |-- MERCADO: string (nullable = true)\n",
      "\n"
     ]
    }
   ],
   "source": [
    "dtf.printSchema()"
   ]
  },
  {
   "cell_type": "code",
   "execution_count": 10,
   "metadata": {},
   "outputs": [
    {
     "data": {
      "text/plain": [
       "[Row(DIA=20150222, H1=1, ACTIVA_H1=1922, REACTIVA_H1=0, H2=2, ACTIVA_H2=523, REACTIVA_H2=0, H3=3, ACTIVA_H3=125, REACTIVA_H3=0, H4=4, ACTIVA_H4=297, REACTIVA_H4=0, H5=5, ACTIVA_H5=124, REACTIVA_H5=0, H6=6, ACTIVA_H6=150, REACTIVA_H6=0, H7=7, ACTIVA_H7=284, REACTIVA_H7=0, H8=8, ACTIVA_H8=458, REACTIVA_H8=0, H9=9, ACTIVA_H9=2016, REACTIVA_H9=0, H10=10, ACTIVA_H10=344, REACTIVA_H10=0, H11=11, ACTIVA_H11=2379, REACTIVA_H11=0, H12=12, ACTIVA_H12=2250, REACTIVA_H12=0, H13=13, ACTIVA_H13=978, REACTIVA_H13=0, H14=14, ACTIVA_H14=1946, REACTIVA_H14=0, H15=15, ACTIVA_H15=1796, REACTIVA_H15=0, H16=16, ACTIVA_H16=2986, REACTIVA_H16=0, H17=17, ACTIVA_H17=1595, REACTIVA_H17=0, H18=18, ACTIVA_H18=421, REACTIVA_H18=0, H19=19, ACTIVA_H19=689, REACTIVA_H19=0, H20=20, ACTIVA_H20=1504, REACTIVA_H20=0, H21=21, ACTIVA_H21=814, REACTIVA_H21=0, H22=22, ACTIVA_H22=1755, REACTIVA_H22=0, H23=23, ACTIVA_H23=2188, REACTIVA_H23=0, H24=24, ACTIVA_H24=1237, REACTIVA_H24=0, H25=25, ACTIVA_H25=0, REACTIVA_H25=0, DE_MUNICIP=u'SANT BOI DE LLOBREGAT', FECHA_ALTA_STRO=u'Q21993', TARGET_TENENCIA_CUPS=0.0, IDENTIFICADOR=18005, CNAE=u'T1', PRODUCTO=u'P2', MERCADO=u'M1'),\n",
       " Row(DIA=20150323, H1=1, ACTIVA_H1=0, REACTIVA_H1=0, H2=2, ACTIVA_H2=0, REACTIVA_H2=0, H3=3, ACTIVA_H3=0, REACTIVA_H3=0, H4=4, ACTIVA_H4=0, REACTIVA_H4=0, H5=5, ACTIVA_H5=0, REACTIVA_H5=0, H6=6, ACTIVA_H6=0, REACTIVA_H6=0, H7=7, ACTIVA_H7=0, REACTIVA_H7=0, H8=8, ACTIVA_H8=0, REACTIVA_H8=0, H9=9, ACTIVA_H9=0, REACTIVA_H9=0, H10=10, ACTIVA_H10=0, REACTIVA_H10=0, H11=11, ACTIVA_H11=0, REACTIVA_H11=0, H12=12, ACTIVA_H12=0, REACTIVA_H12=0, H13=13, ACTIVA_H13=0, REACTIVA_H13=0, H14=14, ACTIVA_H14=0, REACTIVA_H14=0, H15=15, ACTIVA_H15=0, REACTIVA_H15=0, H16=16, ACTIVA_H16=0, REACTIVA_H16=0, H17=17, ACTIVA_H17=0, REACTIVA_H17=0, H18=18, ACTIVA_H18=0, REACTIVA_H18=0, H19=19, ACTIVA_H19=0, REACTIVA_H19=0, H20=20, ACTIVA_H20=0, REACTIVA_H20=0, H21=21, ACTIVA_H21=0, REACTIVA_H21=0, H22=22, ACTIVA_H22=0, REACTIVA_H22=0, H23=23, ACTIVA_H23=0, REACTIVA_H23=0, H24=24, ACTIVA_H24=0, REACTIVA_H24=0, H25=25, ACTIVA_H25=0, REACTIVA_H25=0, DE_MUNICIP=u'TORROX', FECHA_ALTA_STRO=u'Q32003', TARGET_TENENCIA_CUPS=0.0, IDENTIFICADOR=50311, CNAE=u'T1', PRODUCTO=u'P1', MERCADO=u'M1')]"
      ]
     },
     "execution_count": 10,
     "metadata": {},
     "output_type": "execute_result"
    }
   ],
   "source": [
    "dtf.take(2)"
   ]
  },
  {
   "cell_type": "code",
   "execution_count": 14,
   "metadata": {},
   "outputs": [],
   "source": [
    "dtf=dtf.drop(\"FECHA_ALTA_STRO\")\n",
    "dtf=dtf.drop(\"PRODUCTO\")\n"
   ]
  },
  {
   "cell_type": "code",
   "execution_count": null,
   "metadata": {},
   "outputs": [],
   "source": []
  },
  {
   "cell_type": "code",
   "execution_count": 26,
   "metadata": {},
   "outputs": [],
   "source": [
    "dd=dtf.filter(dtf.MERCADO==\"M2\")"
   ]
  },
  {
   "cell_type": "code",
   "execution_count": 27,
   "metadata": {},
   "outputs": [
    {
     "data": {
      "text/plain": [
       "6041843"
      ]
     },
     "execution_count": 27,
     "metadata": {},
     "output_type": "execute_result"
    }
   ],
   "source": [
    "dd.count()"
   ]
  },
  {
   "cell_type": "code",
   "execution_count": 28,
   "metadata": {},
   "outputs": [],
   "source": [
    "dd.write.save(path=\"datos\",format=\"com.databricks.spark.csv\",header=\"true\")"
   ]
  },
  {
   "cell_type": "code",
   "execution_count": 29,
   "metadata": {},
   "outputs": [],
   "source": [
    "dd1=sqlContext.read.load('datos',format='com.databricks.spark.csv',\n",
    "                                header='true',inferSchema='true')"
   ]
  },
  {
   "cell_type": "code",
   "execution_count": 12,
   "metadata": {},
   "outputs": [
    {
     "ename": "AttributeError",
     "evalue": "'DataFrame' object has no attribute 'CNAE'",
     "output_type": "error",
     "traceback": [
      "\u001b[0;31m---------------------------------------------------------------------------\u001b[0m",
      "\u001b[0;31mAttributeError\u001b[0m                            Traceback (most recent call last)",
      "\u001b[0;32m<ipython-input-12-5e82d992ec63>\u001b[0m in \u001b[0;36m<module>\u001b[0;34m()\u001b[0m\n\u001b[1;32m      2\u001b[0m \u001b[0mdd1\u001b[0m\u001b[0;34m=\u001b[0m\u001b[0mdd1\u001b[0m\u001b[0;34m.\u001b[0m\u001b[0mdrop\u001b[0m\u001b[0;34m(\u001b[0m\u001b[0;34m'MERCADO'\u001b[0m\u001b[0;34m)\u001b[0m\u001b[0;34m\u001b[0m\u001b[0m\n\u001b[1;32m      3\u001b[0m \u001b[0mdd1\u001b[0m\u001b[0;34m=\u001b[0m\u001b[0mdd1\u001b[0m\u001b[0;34m.\u001b[0m\u001b[0mdrop\u001b[0m\u001b[0;34m(\u001b[0m\u001b[0;34m'IDENTIFICADOR'\u001b[0m\u001b[0;34m)\u001b[0m\u001b[0;34m\u001b[0m\u001b[0m\n\u001b[0;32m----> 4\u001b[0;31m \u001b[0mdd1\u001b[0m\u001b[0;34m=\u001b[0m\u001b[0mdd1\u001b[0m\u001b[0;34m.\u001b[0m\u001b[0mfilter\u001b[0m\u001b[0;34m(\u001b[0m\u001b[0mdd1\u001b[0m\u001b[0;34m.\u001b[0m\u001b[0mCNAE\u001b[0m\u001b[0;34m==\u001b[0m\u001b[0;34m\"T1\"\u001b[0m\u001b[0;34m)\u001b[0m\u001b[0;34m\u001b[0m\u001b[0m\n\u001b[0m\u001b[1;32m      5\u001b[0m \u001b[0mdd1\u001b[0m\u001b[0;34m=\u001b[0m\u001b[0mdd1\u001b[0m\u001b[0;34m.\u001b[0m\u001b[0mdrop\u001b[0m\u001b[0;34m(\u001b[0m\u001b[0;34m'CNAE'\u001b[0m\u001b[0;34m)\u001b[0m\u001b[0;34m\u001b[0m\u001b[0m\n",
      "\u001b[0;32m/usr/lib/spark/python/pyspark/sql/dataframe.pyc\u001b[0m in \u001b[0;36m__getattr__\u001b[0;34m(self, name)\u001b[0m\n\u001b[1;32m   1018\u001b[0m         \u001b[0;32mif\u001b[0m \u001b[0mname\u001b[0m \u001b[0;32mnot\u001b[0m \u001b[0;32min\u001b[0m \u001b[0mself\u001b[0m\u001b[0;34m.\u001b[0m\u001b[0mcolumns\u001b[0m\u001b[0;34m:\u001b[0m\u001b[0;34m\u001b[0m\u001b[0m\n\u001b[1;32m   1019\u001b[0m             raise AttributeError(\n\u001b[0;32m-> 1020\u001b[0;31m                 \"'%s' object has no attribute '%s'\" % (self.__class__.__name__, name))\n\u001b[0m\u001b[1;32m   1021\u001b[0m         \u001b[0mjc\u001b[0m \u001b[0;34m=\u001b[0m \u001b[0mself\u001b[0m\u001b[0;34m.\u001b[0m\u001b[0m_jdf\u001b[0m\u001b[0;34m.\u001b[0m\u001b[0mapply\u001b[0m\u001b[0;34m(\u001b[0m\u001b[0mname\u001b[0m\u001b[0;34m)\u001b[0m\u001b[0;34m\u001b[0m\u001b[0m\n\u001b[1;32m   1022\u001b[0m         \u001b[0;32mreturn\u001b[0m \u001b[0mColumn\u001b[0m\u001b[0;34m(\u001b[0m\u001b[0mjc\u001b[0m\u001b[0;34m)\u001b[0m\u001b[0;34m\u001b[0m\u001b[0m\n",
      "\u001b[0;31mAttributeError\u001b[0m: 'DataFrame' object has no attribute 'CNAE'"
     ]
    }
   ],
   "source": [
    "dd1=dd1.drop('TARGET_TENENCIA_CUPS')\n",
    "dd1=dd1.drop('MERCADO')\n",
    "dd1=dd1.drop('IDENTIFICADOR')\n",
    "dd1=dd1.filter(dd1.CNAE==\"T1\")"
   ]
  },
  {
   "cell_type": "code",
   "execution_count": 37,
   "metadata": {},
   "outputs": [],
   "source": [
    "dd1.write.save(path=\"datos2\",format=\"com.databricks.spark.csv\",header=\"true\")"
   ]
  },
  {
   "cell_type": "code",
   "execution_count": 2,
   "metadata": {},
   "outputs": [],
   "source": [
    "dd1=sqlContext.read.load('datos2',format='com.databricks.spark.csv',\n",
    "                                header='true',inferSchema='true')\n"
   ]
  },
  {
   "cell_type": "code",
   "execution_count": 3,
   "metadata": {
    "scrolled": true
   },
   "outputs": [],
   "source": [
    "hour = ''\n",
    "reactive = ''\n",
    "for i in range(1,26):\n",
    "    hour = 'H'+str(i)\n",
    "    reactive = 'REACTIVA_H'+str(i)\n",
    "    #print(hour)\n",
    "    dd1=dd1.drop(hour)\n",
    "    dd1=dd1.drop(reactive)\n"
   ]
  },
  {
   "cell_type": "code",
   "execution_count": 4,
   "metadata": {},
   "outputs": [],
   "source": [
    "dd1=dd1.drop('CNAE')"
   ]
  },
  {
   "cell_type": "code",
   "execution_count": 5,
   "metadata": {},
   "outputs": [
    {
     "data": {
      "text/plain": [
       "['DIA',\n",
       " 'ACTIVA_H1',\n",
       " 'ACTIVA_H2',\n",
       " 'ACTIVA_H3',\n",
       " 'ACTIVA_H4',\n",
       " 'ACTIVA_H5',\n",
       " 'ACTIVA_H6',\n",
       " 'ACTIVA_H7',\n",
       " 'ACTIVA_H8',\n",
       " 'ACTIVA_H9',\n",
       " 'ACTIVA_H10',\n",
       " 'ACTIVA_H11',\n",
       " 'ACTIVA_H12',\n",
       " 'ACTIVA_H13',\n",
       " 'ACTIVA_H14',\n",
       " 'ACTIVA_H15',\n",
       " 'ACTIVA_H16',\n",
       " 'ACTIVA_H17',\n",
       " 'ACTIVA_H18',\n",
       " 'ACTIVA_H19',\n",
       " 'ACTIVA_H20',\n",
       " 'ACTIVA_H21',\n",
       " 'ACTIVA_H22',\n",
       " 'ACTIVA_H23',\n",
       " 'ACTIVA_H24',\n",
       " 'ACTIVA_H25',\n",
       " 'DE_MUNICIP']"
      ]
     },
     "execution_count": 5,
     "metadata": {},
     "output_type": "execute_result"
    }
   ],
   "source": [
    "dd1.columns"
   ]
  },
  {
   "cell_type": "code",
   "execution_count": 6,
   "metadata": {},
   "outputs": [
    {
     "data": {
      "text/plain": [
       "5215011"
      ]
     },
     "execution_count": 6,
     "metadata": {},
     "output_type": "execute_result"
    }
   ],
   "source": [
    "dd1.count()"
   ]
  },
  {
   "cell_type": "code",
   "execution_count": 7,
   "metadata": {},
   "outputs": [
    {
     "data": {
      "text/plain": [
       "[Row(DIA=20150602, ACTIVA_H1=57, ACTIVA_H2=79, ACTIVA_H3=85, ACTIVA_H4=60, ACTIVA_H5=59, ACTIVA_H6=86, ACTIVA_H7=75, ACTIVA_H8=55, ACTIVA_H9=67, ACTIVA_H10=91, ACTIVA_H11=55, ACTIVA_H12=57, ACTIVA_H13=87, ACTIVA_H14=74, ACTIVA_H15=57, ACTIVA_H16=71, ACTIVA_H17=293, ACTIVA_H18=210, ACTIVA_H19=70, ACTIVA_H20=63, ACTIVA_H21=93, ACTIVA_H22=75, ACTIVA_H23=61, ACTIVA_H24=73, ACTIVA_H25=0, DE_MUNICIP=u'UBRIQUE'),\n",
       " Row(DIA=20150816, ACTIVA_H1=0, ACTIVA_H2=0, ACTIVA_H3=0, ACTIVA_H4=0, ACTIVA_H5=0, ACTIVA_H6=0, ACTIVA_H7=0, ACTIVA_H8=0, ACTIVA_H9=0, ACTIVA_H10=0, ACTIVA_H11=0, ACTIVA_H12=0, ACTIVA_H13=0, ACTIVA_H14=0, ACTIVA_H15=0, ACTIVA_H16=0, ACTIVA_H17=0, ACTIVA_H18=0, ACTIVA_H19=0, ACTIVA_H20=0, ACTIVA_H21=0, ACTIVA_H22=0, ACTIVA_H23=0, ACTIVA_H24=0, ACTIVA_H25=0, DE_MUNICIP=u'SANTA EULARIA DES RIU')]"
      ]
     },
     "execution_count": 7,
     "metadata": {},
     "output_type": "execute_result"
    }
   ],
   "source": [
    "dd1.take(2)"
   ]
  },
  {
   "cell_type": "code",
   "execution_count": 17,
   "metadata": {},
   "outputs": [],
   "source": [
    "def is_error(line):\n",
    "    print line\n",
    "    if(line<=6 & line >=9):\n",
    "        return True\n",
    "    else:\n",
    "        return False"
   ]
  },
  {
   "cell_type": "code",
   "execution_count": 5,
   "metadata": {},
   "outputs": [],
   "source": [
    "from pyspark.sql.functions import col\n",
    "\n",
    "dd12=dd1.where(col('DIA') <=20150930 )\n",
    "dd123=dd12.where(col('DIA') >= 20150601 )"
   ]
  },
  {
   "cell_type": "code",
   "execution_count": 9,
   "metadata": {},
   "outputs": [
    {
     "data": {
      "text/plain": [
       "5156311"
      ]
     },
     "execution_count": 9,
     "metadata": {},
     "output_type": "execute_result"
    }
   ],
   "source": [
    "dd12.count()\n"
   ]
  },
  {
   "cell_type": "code",
   "execution_count": 10,
   "metadata": {},
   "outputs": [
    {
     "data": {
      "text/plain": [
       "1911989"
      ]
     },
     "execution_count": 10,
     "metadata": {},
     "output_type": "execute_result"
    }
   ],
   "source": [
    "dd123.count()"
   ]
  },
  {
   "cell_type": "code",
   "execution_count": 11,
   "metadata": {},
   "outputs": [
    {
     "data": {
      "text/plain": [
       "[Row(DIA=20150602, ACTIVA_H1=57, ACTIVA_H2=79, ACTIVA_H3=85, ACTIVA_H4=60, ACTIVA_H5=59, ACTIVA_H6=86, ACTIVA_H7=75, ACTIVA_H8=55, ACTIVA_H9=67, ACTIVA_H10=91, ACTIVA_H11=55, ACTIVA_H12=57, ACTIVA_H13=87, ACTIVA_H14=74, ACTIVA_H15=57, ACTIVA_H16=71, ACTIVA_H17=293, ACTIVA_H18=210, ACTIVA_H19=70, ACTIVA_H20=63, ACTIVA_H21=93, ACTIVA_H22=75, ACTIVA_H23=61, ACTIVA_H24=73, ACTIVA_H25=0, DE_MUNICIP=u'UBRIQUE'),\n",
       " Row(DIA=20150816, ACTIVA_H1=0, ACTIVA_H2=0, ACTIVA_H3=0, ACTIVA_H4=0, ACTIVA_H5=0, ACTIVA_H6=0, ACTIVA_H7=0, ACTIVA_H8=0, ACTIVA_H9=0, ACTIVA_H10=0, ACTIVA_H11=0, ACTIVA_H12=0, ACTIVA_H13=0, ACTIVA_H14=0, ACTIVA_H15=0, ACTIVA_H16=0, ACTIVA_H17=0, ACTIVA_H18=0, ACTIVA_H19=0, ACTIVA_H20=0, ACTIVA_H21=0, ACTIVA_H22=0, ACTIVA_H23=0, ACTIVA_H24=0, ACTIVA_H25=0, DE_MUNICIP=u'SANTA EULARIA DES RIU'),\n",
       " Row(DIA=20150713, ACTIVA_H1=76, ACTIVA_H2=84, ACTIVA_H3=87, ACTIVA_H4=77, ACTIVA_H5=74, ACTIVA_H6=75, ACTIVA_H7=88, ACTIVA_H8=1266, ACTIVA_H9=1339, ACTIVA_H10=1328, ACTIVA_H11=1318, ACTIVA_H12=161, ACTIVA_H13=86, ACTIVA_H14=81, ACTIVA_H15=1196, ACTIVA_H16=768, ACTIVA_H17=84, ACTIVA_H18=85, ACTIVA_H19=1234, ACTIVA_H20=1327, ACTIVA_H21=1332, ACTIVA_H22=807, ACTIVA_H23=86, ACTIVA_H24=77, ACTIVA_H25=0, DE_MUNICIP=u'SANT PERE DE RIBES'),\n",
       " Row(DIA=20150721, ACTIVA_H1=311, ACTIVA_H2=272, ACTIVA_H3=243, ACTIVA_H4=174, ACTIVA_H5=193, ACTIVA_H6=264, ACTIVA_H7=259, ACTIVA_H8=214, ACTIVA_H9=169, ACTIVA_H10=844, ACTIVA_H11=469, ACTIVA_H12=1291, ACTIVA_H13=1158, ACTIVA_H14=1099, ACTIVA_H15=1658, ACTIVA_H16=572, ACTIVA_H17=998, ACTIVA_H18=1054, ACTIVA_H19=541, ACTIVA_H20=410, ACTIVA_H21=305, ACTIVA_H22=298, ACTIVA_H23=1176, ACTIVA_H24=1127, ACTIVA_H25=0, DE_MUNICIP=u'SANTANDER'),\n",
       " Row(DIA=20150610, ACTIVA_H1=75, ACTIVA_H2=76, ACTIVA_H3=132, ACTIVA_H4=119, ACTIVA_H5=67, ACTIVA_H6=64, ACTIVA_H7=63, ACTIVA_H8=74, ACTIVA_H9=75, ACTIVA_H10=74, ACTIVA_H11=68, ACTIVA_H12=63, ACTIVA_H13=85, ACTIVA_H14=128, ACTIVA_H15=74, ACTIVA_H16=104, ACTIVA_H17=134, ACTIVA_H18=63, ACTIVA_H19=67, ACTIVA_H20=65, ACTIVA_H21=64, ACTIVA_H22=162, ACTIVA_H23=182, ACTIVA_H24=133, ACTIVA_H25=0, DE_MUNICIP=u'MIENGO')]"
      ]
     },
     "execution_count": 11,
     "metadata": {},
     "output_type": "execute_result"
    }
   ],
   "source": [
    "dd123.take(5)"
   ]
  },
  {
   "cell_type": "code",
   "execution_count": 6,
   "metadata": {},
   "outputs": [],
   "source": [
    "dd123.write.save(path=\"datos3f\",format=\"com.databricks.spark.csv\",header=\"true\")"
   ]
  },
  {
   "cell_type": "code",
   "execution_count": 1,
   "metadata": {},
   "outputs": [],
   "source": [
    "ddfinal=sqlContext.read.load('datos3f',format='com.databricks.spark.csv',\n",
    "                                header='true',inferSchema='true')"
   ]
  },
  {
   "cell_type": "code",
   "execution_count": 2,
   "metadata": {},
   "outputs": [
    {
     "data": {
      "text/plain": [
       "1911989"
      ]
     },
     "execution_count": 2,
     "metadata": {},
     "output_type": "execute_result"
    }
   ],
   "source": [
    "ddfinal.count()"
   ]
  },
  {
   "cell_type": "code",
   "execution_count": 3,
   "metadata": {},
   "outputs": [
    {
     "data": {
      "text/plain": [
       "['DIA',\n",
       " 'ACTIVA_H1',\n",
       " 'ACTIVA_H2',\n",
       " 'ACTIVA_H3',\n",
       " 'ACTIVA_H4',\n",
       " 'ACTIVA_H5',\n",
       " 'ACTIVA_H6',\n",
       " 'ACTIVA_H7',\n",
       " 'ACTIVA_H8',\n",
       " 'ACTIVA_H9',\n",
       " 'ACTIVA_H10',\n",
       " 'ACTIVA_H11',\n",
       " 'ACTIVA_H12',\n",
       " 'ACTIVA_H13',\n",
       " 'ACTIVA_H14',\n",
       " 'ACTIVA_H15',\n",
       " 'ACTIVA_H16',\n",
       " 'ACTIVA_H17',\n",
       " 'ACTIVA_H18',\n",
       " 'ACTIVA_H19',\n",
       " 'ACTIVA_H20',\n",
       " 'ACTIVA_H21',\n",
       " 'ACTIVA_H22',\n",
       " 'ACTIVA_H23',\n",
       " 'ACTIVA_H24',\n",
       " 'ACTIVA_H25',\n",
       " 'DE_MUNICIP']"
      ]
     },
     "execution_count": 3,
     "metadata": {},
     "output_type": "execute_result"
    }
   ],
   "source": [
    "ddfinal.columns"
   ]
  },
  {
   "cell_type": "code",
   "execution_count": 4,
   "metadata": {},
   "outputs": [],
   "source": [
    "for i in range(1,11):\n",
    "    ddfinal=ddfinal.drop('ACTIVA_H'+str(i))\n",
    "    \n",
    "for j in range(22,26):\n",
    "    ddfinal=ddfinal.drop('ACTIVA_H'+str(j))"
   ]
  },
  {
   "cell_type": "code",
   "execution_count": 5,
   "metadata": {},
   "outputs": [
    {
     "data": {
      "text/plain": [
       "['DIA',\n",
       " 'ACTIVA_H11',\n",
       " 'ACTIVA_H12',\n",
       " 'ACTIVA_H13',\n",
       " 'ACTIVA_H14',\n",
       " 'ACTIVA_H15',\n",
       " 'ACTIVA_H16',\n",
       " 'ACTIVA_H17',\n",
       " 'ACTIVA_H18',\n",
       " 'ACTIVA_H19',\n",
       " 'ACTIVA_H20',\n",
       " 'ACTIVA_H21',\n",
       " 'DE_MUNICIP']"
      ]
     },
     "execution_count": 5,
     "metadata": {},
     "output_type": "execute_result"
    }
   ],
   "source": [
    "ddfinal.columns"
   ]
  },
  {
   "cell_type": "code",
   "execution_count": 6,
   "metadata": {},
   "outputs": [
    {
     "data": {
      "text/plain": [
       "DataFrame[summary: string, DIA: string, ACTIVA_H11: string, ACTIVA_H12: string, ACTIVA_H13: string, ACTIVA_H14: string, ACTIVA_H15: string, ACTIVA_H16: string, ACTIVA_H17: string, ACTIVA_H18: string, ACTIVA_H19: string, ACTIVA_H20: string, ACTIVA_H21: string, DE_MUNICIP: string]"
      ]
     },
     "execution_count": 6,
     "metadata": {},
     "output_type": "execute_result"
    }
   ],
   "source": [
    "ddfinal.describe()"
   ]
  },
  {
   "cell_type": "code",
   "execution_count": 7,
   "metadata": {},
   "outputs": [
    {
     "name": "stdout",
     "output_type": "stream",
     "text": [
      "+--------------------+\n",
      "|          DE_MUNICIP|\n",
      "+--------------------+\n",
      "|             UBRIQUE|\n",
      "|SANTA EULARIA DES...|\n",
      "|  SANT PERE DE RIBES|\n",
      "|           SANTANDER|\n",
      "|              MIENGO|\n",
      "|JEREZ DE LA FRONTERA|\n",
      "|              TORROX|\n",
      "|            VALVERDE|\n",
      "|                REUS|\n",
      "|SANT BOI DE LLOBR...|\n",
      "|           SANTANDER|\n",
      "|SANT BOI DE LLOBR...|\n",
      "|       PUENTE VIESGO|\n",
      "|SANTA COLOMA DE G...|\n",
      "|             SANTOÑA|\n",
      "|                RUBI|\n",
      "|            EL PINAR|\n",
      "|          BREÑA BAJA|\n",
      "|SANT BOI DE LLOBR...|\n",
      "|            ZARAGOZA|\n",
      "+--------------------+\n",
      "only showing top 20 rows\n",
      "\n"
     ]
    }
   ],
   "source": [
    "ddfinal.select(\"DE_MUNICIP\").show()"
   ]
  },
  {
   "cell_type": "code",
   "execution_count": 8,
   "metadata": {},
   "outputs": [],
   "source": [
    "from pyspark.sql.functions import count, avg\n",
    "dfpru=ddfinal.groupBy(\"DE_MUNICIP\").agg(count(\"*\"))"
   ]
  },
  {
   "cell_type": "code",
   "execution_count": 9,
   "metadata": {},
   "outputs": [],
   "source": [
    "dfpru=dfpru.orderBy('count(1)', ascending=False)"
   ]
  },
  {
   "cell_type": "code",
   "execution_count": 10,
   "metadata": {},
   "outputs": [
    {
     "data": {
      "text/plain": [
       "324"
      ]
     },
     "execution_count": 10,
     "metadata": {},
     "output_type": "execute_result"
    }
   ],
   "source": [
    "dfpru.count()"
   ]
  },
  {
   "cell_type": "code",
   "execution_count": 11,
   "metadata": {},
   "outputs": [
    {
     "name": "stdout",
     "output_type": "stream",
     "text": [
      "+--------------------+--------+\n",
      "|          DE_MUNICIP|count(1)|\n",
      "+--------------------+--------+\n",
      "|           SANTANDER|  196994|\n",
      "|SANT BOI DE LLOBR...|  115285|\n",
      "|              TORROX|   90305|\n",
      "|SANTA COLOMA DE G...|   88137|\n",
      "|L'HOSPITALET DE L...|   86737|\n",
      "|SANT CARLES DE LA...|   75222|\n",
      "|             UBRIQUE|   69456|\n",
      "|            ZARAGOZA|   64358|\n",
      "|              HUELVA|   63355|\n",
      "|              BAILEN|   62078|\n",
      "|  SANT PERE DE RIBES|   49714|\n",
      "|                RUBI|   47328|\n",
      "|PEÑARROYA-PUEBLON...|   46189|\n",
      "|         TORRELAVEGA|   38936|\n",
      "|             SANTOÑA|   32780|\n",
      "|              LAREDO|   23685|\n",
      "|            VALVERDE|   23648|\n",
      "|               PALMA|   23560|\n",
      "|        MEDIO CUDEYO|   22538|\n",
      "|                REUS|   21183|\n",
      "+--------------------+--------+\n",
      "only showing top 20 rows\n",
      "\n"
     ]
    }
   ],
   "source": [
    "dfpru.show()"
   ]
  },
  {
   "cell_type": "code",
   "execution_count": 12,
   "metadata": {},
   "outputs": [
    {
     "data": {
      "text/plain": [
       "[Row(DE_MUNICIP=u'SANTANDER', count(1)=196994),\n",
       " Row(DE_MUNICIP=u'SANT BOI DE LLOBREGAT', count(1)=115285),\n",
       " Row(DE_MUNICIP=u'TORROX', count(1)=90305),\n",
       " Row(DE_MUNICIP=u'SANTA COLOMA DE GRAMENET', count(1)=88137),\n",
       " Row(DE_MUNICIP=u\"L'HOSPITALET DE LLOBREGAT\", count(1)=86737),\n",
       " Row(DE_MUNICIP=u'SANT CARLES DE LA RAPITA', count(1)=75222),\n",
       " Row(DE_MUNICIP=u'UBRIQUE', count(1)=69456),\n",
       " Row(DE_MUNICIP=u'ZARAGOZA', count(1)=64358),\n",
       " Row(DE_MUNICIP=u'HUELVA', count(1)=63355),\n",
       " Row(DE_MUNICIP=u'BAILEN', count(1)=62078),\n",
       " Row(DE_MUNICIP=u'SANT PERE DE RIBES', count(1)=49714),\n",
       " Row(DE_MUNICIP=u'RUBI', count(1)=47328),\n",
       " Row(DE_MUNICIP=u'PE\\xd1ARROYA-PUEBLONUEVO', count(1)=46189),\n",
       " Row(DE_MUNICIP=u'TORRELAVEGA', count(1)=38936),\n",
       " Row(DE_MUNICIP=u'SANTO\\xd1A', count(1)=32780),\n",
       " Row(DE_MUNICIP=u'LAREDO', count(1)=23685),\n",
       " Row(DE_MUNICIP=u'VALVERDE', count(1)=23648),\n",
       " Row(DE_MUNICIP=u'PALMA', count(1)=23560),\n",
       " Row(DE_MUNICIP=u'MEDIO CUDEYO', count(1)=22538),\n",
       " Row(DE_MUNICIP=u'REUS', count(1)=21183)]"
      ]
     },
     "execution_count": 12,
     "metadata": {},
     "output_type": "execute_result"
    }
   ],
   "source": [
    "dfpru.take(20)"
   ]
  },
  {
   "cell_type": "code",
   "execution_count": 16,
   "metadata": {},
   "outputs": [
    {
     "name": "stdout",
     "output_type": "stream",
     "text": [
      "['SANTANDER', 'SANT BOI DE LLOBREGAT', 'TORROX', 'SANTA COLOMA DE GRAMENET', \"L'HOSPITALET DE LLOBREGAT\", 'SANT CARLES DE LA RAPITA', 'UBRIQUE', 'ZARAGOZA', 'HUELVA', 'BAILEN', 'SANT PERE DE RIBES', 'RUBI', 'TORRELAVEGA', 'LAREDO', 'VALVERDE', 'PALMA', 'MEDIO CUDEYO', 'REUS', 'SUANCES', 'CABEZON DE LA SAL', 'ANDRATX', 'PIELAGOS', 'CAMARGO', 'FRONTERA', 'MIENGO', 'SAN FERNANDO', 'SANTA CRUZ DE BEZANA', 'ALMONACID DE LA SIERRA', 'BADAJOZ', 'POLANCO', 'VALDALIGA', 'GRANADILLA DE ABONA', 'EL PINAR DE EL HIERRO', 'ADEMUZ', 'MARINA DE CUDEYO', 'SAN VICENTE DE LA BARQUERA', 'BADIA DEL VALLES', 'CARTES', 'ENTRAMBASAGUAS', 'CORDOBA', 'SEVILLA', 'RENEDO', 'LAS PALMAS DE G.C.', 'PUENTE VIESGO', 'CHICLANA DE LA FRONTERA', 'ARNUERO']\n"
     ]
    }
   ],
   "source": [
    "Lista=['SANTANDER', 'SANT BOI DE LLOBREGAT', 'TORROX','SANTA COLOMA DE GRAMENET',\"L'HOSPITALET DE LLOBREGAT\",\n",
    "       'SANT CARLES DE LA RAPITA','UBRIQUE','ZARAGOZA','HUELVA','BAILEN','SANT PERE DE RIBES','RUBI',\n",
    "       'TORRELAVEGA','LAREDO','VALVERDE','PALMA','MEDIO CUDEYO','REUS',\n",
    "       'SUANCES','CABEZON DE LA SAL','ANDRATX','PIELAGOS','CAMARGO','FRONTERA','MIENGO','SAN FERNANDO',\n",
    "       'SANTA CRUZ DE BEZANA','ALMONACID DE LA SIERRA','BADAJOZ','POLANCO','VALDALIGA','GRANADILLA DE ABONA',\n",
    "       'EL PINAR DE EL HIERRO','ADEMUZ','MARINA DE CUDEYO','SAN VICENTE DE LA BARQUERA',\n",
    "       'BADIA DEL VALLES','CARTES','ENTRAMBASAGUAS','CORDOBA','SEVILLA','RENEDO','LAS PALMAS DE G.C.',\n",
    "       'PUENTE VIESGO','CHICLANA DE LA FRONTERA','ARNUERO']\n",
    "print Lista"
   ]
  },
  {
   "cell_type": "code",
   "execution_count": 17,
   "metadata": {},
   "outputs": [
    {
     "data": {
      "text/plain": [
       "115285"
      ]
     },
     "execution_count": 17,
     "metadata": {},
     "output_type": "execute_result"
    }
   ],
   "source": [
    "from pyspark.sql.functions import col\n",
    "ddfinal.take(3)\n",
    "ddaux1=ddfinal.where(col('DE_MUNICIP') =='SANT BOI DE LLOBREGAT' )\n",
    "ddaux1.count()\n"
   ]
  },
  {
   "cell_type": "code",
   "execution_count": 18,
   "metadata": {},
   "outputs": [],
   "source": [
    "for i in Lista:\n",
    "    ddaux2=ddfinal.where(col('DE_MUNICIP') ==str(i))\n",
    "    ddaux1=ddaux1.union(ddaux2)"
   ]
  },
  {
   "cell_type": "code",
   "execution_count": 19,
   "metadata": {},
   "outputs": [
    {
     "data": {
      "text/plain": [
       "1618059"
      ]
     },
     "execution_count": 19,
     "metadata": {},
     "output_type": "execute_result"
    }
   ],
   "source": [
    "ddaux1.count()"
   ]
  },
  {
   "cell_type": "code",
   "execution_count": 20,
   "metadata": {},
   "outputs": [
    {
     "data": {
      "text/plain": [
       "[Row(DIA=20150727, ACTIVA_H11=182, ACTIVA_H12=972, ACTIVA_H13=506, ACTIVA_H14=416, ACTIVA_H15=958, ACTIVA_H16=235, ACTIVA_H17=390, ACTIVA_H18=331, ACTIVA_H19=121, ACTIVA_H20=332, ACTIVA_H21=475, DE_MUNICIP=u'SANT BOI DE LLOBREGAT'),\n",
       " Row(DIA=20150613, ACTIVA_H11=331, ACTIVA_H12=336, ACTIVA_H13=253, ACTIVA_H14=193, ACTIVA_H15=369, ACTIVA_H16=371, ACTIVA_H17=396, ACTIVA_H18=423, ACTIVA_H19=422, ACTIVA_H20=518, ACTIVA_H21=342, DE_MUNICIP=u'SANT BOI DE LLOBREGAT'),\n",
       " Row(DIA=20150630, ACTIVA_H11=168, ACTIVA_H12=169, ACTIVA_H13=171, ACTIVA_H14=348, ACTIVA_H15=462, ACTIVA_H16=417, ACTIVA_H17=280, ACTIVA_H18=272, ACTIVA_H19=994, ACTIVA_H20=229, ACTIVA_H21=213, DE_MUNICIP=u'SANT BOI DE LLOBREGAT'),\n",
       " Row(DIA=20150716, ACTIVA_H11=135, ACTIVA_H12=135, ACTIVA_H13=136, ACTIVA_H14=137, ACTIVA_H15=136, ACTIVA_H16=136, ACTIVA_H17=838, ACTIVA_H18=137, ACTIVA_H19=137, ACTIVA_H20=251, ACTIVA_H21=342, DE_MUNICIP=u'SANT BOI DE LLOBREGAT'),\n",
       " Row(DIA=20150721, ACTIVA_H11=222, ACTIVA_H12=269, ACTIVA_H13=355, ACTIVA_H14=474, ACTIVA_H15=1432, ACTIVA_H16=1405, ACTIVA_H17=717, ACTIVA_H18=262, ACTIVA_H19=261, ACTIVA_H20=259, ACTIVA_H21=251, DE_MUNICIP=u'SANT BOI DE LLOBREGAT'),\n",
       " Row(DIA=20150625, ACTIVA_H11=391, ACTIVA_H12=485, ACTIVA_H13=1230, ACTIVA_H14=640, ACTIVA_H15=546, ACTIVA_H16=224, ACTIVA_H17=220, ACTIVA_H18=283, ACTIVA_H19=217, ACTIVA_H20=306, ACTIVA_H21=675, DE_MUNICIP=u'SANT BOI DE LLOBREGAT'),\n",
       " Row(DIA=20150609, ACTIVA_H11=99, ACTIVA_H12=102, ACTIVA_H13=111, ACTIVA_H14=112, ACTIVA_H15=326, ACTIVA_H16=250, ACTIVA_H17=219, ACTIVA_H18=248, ACTIVA_H19=163, ACTIVA_H20=209, ACTIVA_H21=203, DE_MUNICIP=u'SANT BOI DE LLOBREGAT'),\n",
       " Row(DIA=20150727, ACTIVA_H11=177, ACTIVA_H12=138, ACTIVA_H13=114, ACTIVA_H14=126, ACTIVA_H15=125, ACTIVA_H16=127, ACTIVA_H17=110, ACTIVA_H18=105, ACTIVA_H19=208, ACTIVA_H20=216, ACTIVA_H21=186, DE_MUNICIP=u'SANT BOI DE LLOBREGAT'),\n",
       " Row(DIA=20150709, ACTIVA_H11=127, ACTIVA_H12=233, ACTIVA_H13=99, ACTIVA_H14=129, ACTIVA_H15=192, ACTIVA_H16=183, ACTIVA_H17=198, ACTIVA_H18=171, ACTIVA_H19=144, ACTIVA_H20=115, ACTIVA_H21=180, DE_MUNICIP=u'SANT BOI DE LLOBREGAT'),\n",
       " Row(DIA=20150719, ACTIVA_H11=214, ACTIVA_H12=407, ACTIVA_H13=388, ACTIVA_H14=229, ACTIVA_H15=262, ACTIVA_H16=245, ACTIVA_H17=276, ACTIVA_H18=367, ACTIVA_H19=1121, ACTIVA_H20=348, ACTIVA_H21=146, DE_MUNICIP=u'SANT BOI DE LLOBREGAT')]"
      ]
     },
     "execution_count": 20,
     "metadata": {},
     "output_type": "execute_result"
    }
   ],
   "source": [
    "ddaux1.take(10)"
   ]
  },
  {
   "cell_type": "code",
   "execution_count": 30,
   "metadata": {},
   "outputs": [],
   "source": [
    "ddfinal.write.save(path=\"datosdecis\",format=\"com.databricks.spark.csv\",header=\"true\")"
   ]
  },
  {
   "cell_type": "code",
   "execution_count": 31,
   "metadata": {},
   "outputs": [],
   "source": [
    "ddcat=sqlContext.read.load('datosdecis',format='com.databricks.spark.csv',\n",
    "                                header='true',inferSchema='true')"
   ]
  },
  {
   "cell_type": "code",
   "execution_count": 32,
   "metadata": {},
   "outputs": [
    {
     "data": {
      "text/plain": [
       "1911989"
      ]
     },
     "execution_count": 32,
     "metadata": {},
     "output_type": "execute_result"
    }
   ],
   "source": [
    "\n",
    "ddcat.count()"
   ]
  },
  {
   "cell_type": "code",
   "execution_count": 33,
   "metadata": {},
   "outputs": [
    {
     "data": {
      "text/plain": [
       "['DIA',\n",
       " 'ACTIVA_H11',\n",
       " 'ACTIVA_H12',\n",
       " 'ACTIVA_H13',\n",
       " 'ACTIVA_H14',\n",
       " 'ACTIVA_H15',\n",
       " 'ACTIVA_H16',\n",
       " 'ACTIVA_H17',\n",
       " 'ACTIVA_H18',\n",
       " 'ACTIVA_H19',\n",
       " 'ACTIVA_H20',\n",
       " 'ACTIVA_H21',\n",
       " 'DE_MUNICIP']"
      ]
     },
     "execution_count": 33,
     "metadata": {},
     "output_type": "execute_result"
    }
   ],
   "source": [
    "ddcat.columns"
   ]
  },
  {
   "cell_type": "code",
   "execution_count": 34,
   "metadata": {},
   "outputs": [
    {
     "data": {
      "text/plain": [
       "[Row(DIA=20150602, ACTIVA_H11=55, ACTIVA_H12=57, ACTIVA_H13=87, ACTIVA_H14=74, ACTIVA_H15=57, ACTIVA_H16=71, ACTIVA_H17=293, ACTIVA_H18=210, ACTIVA_H19=70, ACTIVA_H20=63, ACTIVA_H21=93, DE_MUNICIP=u'UBRIQUE'),\n",
       " Row(DIA=20150816, ACTIVA_H11=0, ACTIVA_H12=0, ACTIVA_H13=0, ACTIVA_H14=0, ACTIVA_H15=0, ACTIVA_H16=0, ACTIVA_H17=0, ACTIVA_H18=0, ACTIVA_H19=0, ACTIVA_H20=0, ACTIVA_H21=0, DE_MUNICIP=u'SANTA EULARIA DES RIU'),\n",
       " Row(DIA=20150713, ACTIVA_H11=1318, ACTIVA_H12=161, ACTIVA_H13=86, ACTIVA_H14=81, ACTIVA_H15=1196, ACTIVA_H16=768, ACTIVA_H17=84, ACTIVA_H18=85, ACTIVA_H19=1234, ACTIVA_H20=1327, ACTIVA_H21=1332, DE_MUNICIP=u'SANT PERE DE RIBES'),\n",
       " Row(DIA=20150721, ACTIVA_H11=469, ACTIVA_H12=1291, ACTIVA_H13=1158, ACTIVA_H14=1099, ACTIVA_H15=1658, ACTIVA_H16=572, ACTIVA_H17=998, ACTIVA_H18=1054, ACTIVA_H19=541, ACTIVA_H20=410, ACTIVA_H21=305, DE_MUNICIP=u'SANTANDER'),\n",
       " Row(DIA=20150610, ACTIVA_H11=68, ACTIVA_H12=63, ACTIVA_H13=85, ACTIVA_H14=128, ACTIVA_H15=74, ACTIVA_H16=104, ACTIVA_H17=134, ACTIVA_H18=63, ACTIVA_H19=67, ACTIVA_H20=65, ACTIVA_H21=64, DE_MUNICIP=u'MIENGO')]"
      ]
     },
     "execution_count": 34,
     "metadata": {},
     "output_type": "execute_result"
    }
   ],
   "source": [
    "ddcat.take(5)"
   ]
  },
  {
   "cell_type": "code",
   "execution_count": 35,
   "metadata": {},
   "outputs": [
    {
     "name": "stdout",
     "output_type": "stream",
     "text": [
      "+--------+----------+----------+----------+----------+----------+----------+----------+----------+----------+----------+----------+--------------------+\n",
      "|     DIA|ACTIVA_H11|ACTIVA_H12|ACTIVA_H13|ACTIVA_H14|ACTIVA_H15|ACTIVA_H16|ACTIVA_H17|ACTIVA_H18|ACTIVA_H19|ACTIVA_H20|ACTIVA_H21|          DE_MUNICIP|\n",
      "+--------+----------+----------+----------+----------+----------+----------+----------+----------+----------+----------+----------+--------------------+\n",
      "|20150602|        55|        57|        87|        74|        57|        71|       293|       210|        70|        63|        93|             UBRIQUE|\n",
      "|20150816|         0|         0|         0|         0|         0|         0|         0|         0|         0|         0|         0|SANTA EULARIA DES...|\n",
      "|20150713|      1318|       161|        86|        81|      1196|       768|        84|        85|      1234|      1327|      1332|  SANT PERE DE RIBES|\n",
      "|20150721|       469|      1291|      1158|      1099|      1658|       572|       998|      1054|       541|       410|       305|           SANTANDER|\n",
      "|20150610|        68|        63|        85|       128|        74|       104|       134|        63|        67|        65|        64|              MIENGO|\n",
      "|20150624|       322|       369|       244|       330|       957|       864|       283|      1544|       706|       332|       249|JEREZ DE LA FRONTERA|\n",
      "|20150715|       117|       103|       104|       103|       110|       126|       102|       103|       102|       112|       124|              TORROX|\n",
      "|20150725|       449|        54|        41|        35|        47|        33|        35|        40|        57|       214|       817|            VALVERDE|\n",
      "|20150629|       111|       101|        94|       128|       149|       186|       266|       106|        88|        99|       102|                REUS|\n",
      "|20150727|       182|       972|       506|       416|       958|       235|       390|       331|       121|       332|       475|SANT BOI DE LLOBR...|\n",
      "|20150712|       841|       310|      1149|       333|       306|       629|       427|       241|       190|       105|        43|           SANTANDER|\n",
      "|20150613|       331|       336|       253|       193|       369|       371|       396|       423|       422|       518|       342|SANT BOI DE LLOBR...|\n",
      "|20150804|       126|       119|      1351|       789|       357|       261|       302|       184|        82|       128|       152|       PUENTE VIESGO|\n",
      "|20150628|       390|       268|       355|       260|       266|       342|       286|       278|       296|       267|       292|SANTA COLOMA DE G...|\n",
      "|20150729|       924|       734|       182|       262|       294|       169|       157|       165|       226|       199|       205|             SANTOÑA|\n",
      "|20150724|       172|       164|       186|       156|       250|       151|       132|       140|       134|       111|       107|                RUBI|\n",
      "|20150604|        47|        49|       128|       152|        34|        41|        80|       177|       100|        46|        39|            EL PINAR|\n",
      "|20150718|      1725|      1417|      1388|      1137|       905|       744|       780|       700|       678|       611|       652|          BREÑA BAJA|\n",
      "|20150630|       168|       169|       171|       348|       462|       417|       280|       272|       994|       229|       213|SANT BOI DE LLOBR...|\n",
      "|20150709|        59|        34|        56|        36|        57|        37|        55|        38|        56|        35|        63|            ZARAGOZA|\n",
      "+--------+----------+----------+----------+----------+----------+----------+----------+----------+----------+----------+----------+--------------------+\n",
      "only showing top 20 rows\n",
      "\n"
     ]
    }
   ],
   "source": [
    "ddcat.show()"
   ]
  },
  {
   "cell_type": "code",
   "execution_count": null,
   "metadata": {},
   "outputs": [],
   "source": [
    "\n"
   ]
  },
  {
   "cell_type": "code",
   "execution_count": 36,
   "metadata": {},
   "outputs": [],
   "source": [
    "from pyspark.sql.types import IntegerType\n",
    "from pyspark.sql.functions import udf\n",
    "from pyspark.sql.functions import avg\n",
    "\n",
    "ddPrueba=ddcat.drop('DIA')\n",
    "ddPrueba=ddPrueba.drop('DE_MUNICIP')\n",
    "\n",
    "columns=ddPrueba.columns\n",
    "\n",
    "ddgrouped = ddcat.withColumn('total', sum(ddcat[col] for col in ddPrueba.columns))\n"
   ]
  },
  {
   "cell_type": "code",
   "execution_count": 37,
   "metadata": {},
   "outputs": [
    {
     "name": "stdout",
     "output_type": "stream",
     "text": [
      "+--------+----------+----------+----------+----------+----------+----------+----------+----------+----------+----------+----------+--------------------+-----+\n",
      "|     DIA|ACTIVA_H11|ACTIVA_H12|ACTIVA_H13|ACTIVA_H14|ACTIVA_H15|ACTIVA_H16|ACTIVA_H17|ACTIVA_H18|ACTIVA_H19|ACTIVA_H20|ACTIVA_H21|          DE_MUNICIP|total|\n",
      "+--------+----------+----------+----------+----------+----------+----------+----------+----------+----------+----------+----------+--------------------+-----+\n",
      "|20150602|        55|        57|        87|        74|        57|        71|       293|       210|        70|        63|        93|             UBRIQUE| 1130|\n",
      "|20150816|         0|         0|         0|         0|         0|         0|         0|         0|         0|         0|         0|SANTA EULARIA DES...|    0|\n",
      "|20150713|      1318|       161|        86|        81|      1196|       768|        84|        85|      1234|      1327|      1332|  SANT PERE DE RIBES| 7672|\n",
      "|20150721|       469|      1291|      1158|      1099|      1658|       572|       998|      1054|       541|       410|       305|           SANTANDER| 9555|\n",
      "|20150610|        68|        63|        85|       128|        74|       104|       134|        63|        67|        65|        64|              MIENGO|  915|\n",
      "|20150624|       322|       369|       244|       330|       957|       864|       283|      1544|       706|       332|       249|JEREZ DE LA FRONTERA| 6200|\n",
      "|20150715|       117|       103|       104|       103|       110|       126|       102|       103|       102|       112|       124|              TORROX| 1206|\n",
      "|20150725|       449|        54|        41|        35|        47|        33|        35|        40|        57|       214|       817|            VALVERDE| 1822|\n",
      "|20150629|       111|       101|        94|       128|       149|       186|       266|       106|        88|        99|       102|                REUS| 1430|\n",
      "|20150727|       182|       972|       506|       416|       958|       235|       390|       331|       121|       332|       475|SANT BOI DE LLOBR...| 4918|\n",
      "|20150712|       841|       310|      1149|       333|       306|       629|       427|       241|       190|       105|        43|           SANTANDER| 4574|\n",
      "|20150613|       331|       336|       253|       193|       369|       371|       396|       423|       422|       518|       342|SANT BOI DE LLOBR...| 3954|\n",
      "|20150804|       126|       119|      1351|       789|       357|       261|       302|       184|        82|       128|       152|       PUENTE VIESGO| 3851|\n",
      "|20150628|       390|       268|       355|       260|       266|       342|       286|       278|       296|       267|       292|SANTA COLOMA DE G...| 3300|\n",
      "|20150729|       924|       734|       182|       262|       294|       169|       157|       165|       226|       199|       205|             SANTOÑA| 3517|\n",
      "|20150724|       172|       164|       186|       156|       250|       151|       132|       140|       134|       111|       107|                RUBI| 1703|\n",
      "|20150604|        47|        49|       128|       152|        34|        41|        80|       177|       100|        46|        39|            EL PINAR|  893|\n",
      "|20150718|      1725|      1417|      1388|      1137|       905|       744|       780|       700|       678|       611|       652|          BREÑA BAJA|10737|\n",
      "|20150630|       168|       169|       171|       348|       462|       417|       280|       272|       994|       229|       213|SANT BOI DE LLOBR...| 3723|\n",
      "|20150709|        59|        34|        56|        36|        57|        37|        55|        38|        56|        35|        63|            ZARAGOZA|  526|\n",
      "+--------+----------+----------+----------+----------+----------+----------+----------+----------+----------+----------+----------+--------------------+-----+\n",
      "only showing top 20 rows\n",
      "\n"
     ]
    }
   ],
   "source": [
    "ddgrouped.show()"
   ]
  },
  {
   "cell_type": "code",
   "execution_count": 38,
   "metadata": {},
   "outputs": [],
   "source": [
    "ddgrouped=ddgrouped.groupBy('DE_MUNICIP').agg(avg('total'))"
   ]
  },
  {
   "cell_type": "code",
   "execution_count": 39,
   "metadata": {},
   "outputs": [
    {
     "name": "stdout",
     "output_type": "stream",
     "text": [
      "+--------------------+------------------+\n",
      "|          DE_MUNICIP|        avg(total)|\n",
      "+--------------------+------------------+\n",
      "|           SANTANDER|2735.6747921256483|\n",
      "| VALVERDE DEL CAMINO|4496.5467032967035|\n",
      "|         VILLAESCUSA| 3445.311475409836|\n",
      "|   CAMPOO DE ENMEDIO| 2549.185948477752|\n",
      "|          LA GUANCHA|146.05555555555554|\n",
      "|CILLORIGO DE LIEBANA| 2463.300385728062|\n",
      "|  FOGARS DE LA SELVA|1287.2295081967213|\n",
      "|              SADABA|  9136.88524590164|\n",
      "|          POMALUENGO|5416.5348360655735|\n",
      "|SANT FELIU DE LLO...| 1385.622950819672|\n",
      "|             AGUIMES| 4938.172129499296|\n",
      "|MELGAR DE FERNAME...| 2645.712295081967|\n",
      "|            PORTUGOS|1632.5737704918033|\n",
      "|              LLANSA|2004.0806451612902|\n",
      "|           LA CONCHA|3930.8934426229507|\n",
      "|            VALVERDE|  3011.59548376184|\n",
      "|                TAMA| 2339.045397225725|\n",
      "|              GUADIX|  6097.20218579235|\n",
      "|              TARIFA|1009.7868852459017|\n",
      "|              BAREYO| 3653.614480874317|\n",
      "+--------------------+------------------+\n",
      "only showing top 20 rows\n",
      "\n"
     ]
    }
   ],
   "source": [
    "ddgrouped.show()"
   ]
  },
  {
   "cell_type": "code",
   "execution_count": 40,
   "metadata": {},
   "outputs": [
    {
     "data": {
      "text/plain": [
       "['DE_MUNICIP', 'avg(total)']"
      ]
     },
     "execution_count": 40,
     "metadata": {},
     "output_type": "execute_result"
    }
   ],
   "source": [
    "\n",
    "ddgrouped.columns"
   ]
  },
  {
   "cell_type": "code",
   "execution_count": 41,
   "metadata": {},
   "outputs": [
    {
     "name": "stdout",
     "output_type": "stream",
     "text": [
      "+--------------------+------------------+-----+\n",
      "|          DE_MUNICIP|        avg(total)|label|\n",
      "+--------------------+------------------+-----+\n",
      "|           SANTANDER|2735.6747921256483|  0.0|\n",
      "| VALVERDE DEL CAMINO|4496.5467032967035|  1.0|\n",
      "|         VILLAESCUSA| 3445.311475409836|  1.0|\n",
      "|   CAMPOO DE ENMEDIO| 2549.185948477752|  0.0|\n",
      "|          LA GUANCHA|146.05555555555554|  0.0|\n",
      "|CILLORIGO DE LIEBANA| 2463.300385728062|  0.0|\n",
      "|  FOGARS DE LA SELVA|1287.2295081967213|  0.0|\n",
      "|              SADABA|  9136.88524590164|  1.0|\n",
      "|          POMALUENGO|5416.5348360655735|  1.0|\n",
      "|SANT FELIU DE LLO...| 1385.622950819672|  0.0|\n",
      "|             AGUIMES| 4938.172129499296|  1.0|\n",
      "|MELGAR DE FERNAME...| 2645.712295081967|  0.0|\n",
      "|            PORTUGOS|1632.5737704918033|  0.0|\n",
      "|              LLANSA|2004.0806451612902|  0.0|\n",
      "|           LA CONCHA|3930.8934426229507|  1.0|\n",
      "|            VALVERDE|  3011.59548376184|  0.0|\n",
      "|                TAMA| 2339.045397225725|  0.0|\n",
      "|              GUADIX|  6097.20218579235|  1.0|\n",
      "|              TARIFA|1009.7868852459017|  0.0|\n",
      "|              BAREYO| 3653.614480874317|  1.0|\n",
      "+--------------------+------------------+-----+\n",
      "only showing top 20 rows\n",
      "\n"
     ]
    }
   ],
   "source": [
    "from pyspark.ml.feature import Binarizer\n",
    "binarizer=Binarizer(threshold=3237,inputCol='avg(total)',outputCol=\"label\")\n",
    "binarizedDF=binarizer.transform(ddgrouped)\n",
    "binarizedDF.show()\n",
    "#Los 0s los tomamos con que sería rentable aplicar tarifa que utilicen placas solares"
   ]
  },
  {
   "cell_type": "code",
   "execution_count": 42,
   "metadata": {},
   "outputs": [
    {
     "data": {
      "text/plain": [
       "[Row(DE_MUNICIP=u'SANTANDER', avg(total)=2735.6747921256483, label=0.0),\n",
       " Row(DE_MUNICIP=u'VALVERDE DEL CAMINO', avg(total)=4496.5467032967035, label=1.0),\n",
       " Row(DE_MUNICIP=u'VILLAESCUSA', avg(total)=3445.311475409836, label=1.0),\n",
       " Row(DE_MUNICIP=u'CAMPOO DE ENMEDIO', avg(total)=2549.185948477752, label=0.0),\n",
       " Row(DE_MUNICIP=u'LA GUANCHA', avg(total)=146.05555555555554, label=0.0),\n",
       " Row(DE_MUNICIP=u'CILLORIGO DE LIEBANA', avg(total)=2463.300385728062, label=0.0),\n",
       " Row(DE_MUNICIP=u'FOGARS DE LA SELVA', avg(total)=1287.2295081967213, label=0.0),\n",
       " Row(DE_MUNICIP=u'SADABA', avg(total)=9136.88524590164, label=1.0),\n",
       " Row(DE_MUNICIP=u'POMALUENGO', avg(total)=5416.5348360655735, label=1.0),\n",
       " Row(DE_MUNICIP=u'SANT FELIU DE LLOBREGAT', avg(total)=1385.622950819672, label=0.0),\n",
       " Row(DE_MUNICIP=u'AGUIMES', avg(total)=4938.172129499296, label=1.0),\n",
       " Row(DE_MUNICIP=u'MELGAR DE FERNAMENTAL', avg(total)=2645.712295081967, label=0.0),\n",
       " Row(DE_MUNICIP=u'PORTUGOS', avg(total)=1632.5737704918033, label=0.0),\n",
       " Row(DE_MUNICIP=u'LLANSA', avg(total)=2004.0806451612902, label=0.0),\n",
       " Row(DE_MUNICIP=u'LA CONCHA', avg(total)=3930.8934426229507, label=1.0),\n",
       " Row(DE_MUNICIP=u'VALVERDE', avg(total)=3011.59548376184, label=0.0),\n",
       " Row(DE_MUNICIP=u'TAMA', avg(total)=2339.045397225725, label=0.0),\n",
       " Row(DE_MUNICIP=u'GUADIX', avg(total)=6097.20218579235, label=1.0),\n",
       " Row(DE_MUNICIP=u'TARIFA', avg(total)=1009.7868852459017, label=0.0),\n",
       " Row(DE_MUNICIP=u'BAREYO', avg(total)=3653.614480874317, label=1.0),\n",
       " Row(DE_MUNICIP=u'RONDA', avg(total)=2545.1065573770493, label=0.0),\n",
       " Row(DE_MUNICIP=u'BADIA DEL VALLES', avg(total)=2822.557825203252, label=0.0),\n",
       " Row(DE_MUNICIP=u'CASTRILLO DE RIOPISUERGA', avg(total)=442.42622950819674, label=0.0),\n",
       " Row(DE_MUNICIP=u'MALAGA', avg(total)=3688.9221311475408, label=1.0),\n",
       " Row(DE_MUNICIP=u'TIVISSA', avg(total)=3923.700729927007, label=1.0),\n",
       " Row(DE_MUNICIP=u'RUTE', avg(total)=381.28142076502735, label=0.0),\n",
       " Row(DE_MUNICIP=u'FIGUERES', avg(total)=9658.083333333334, label=1.0),\n",
       " Row(DE_MUNICIP=u'ALBOLOTE', avg(total)=2821.9590163934427, label=0.0),\n",
       " Row(DE_MUNICIP=u'CASTA\\xd1EDA', avg(total)=2681.259643201543, label=0.0),\n",
       " Row(DE_MUNICIP=u'POLANCO', avg(total)=3634.116557183763, label=1.0),\n",
       " Row(DE_MUNICIP=u'VALDEPRADO DEL RIO', avg(total)=301.42622950819674, label=0.0),\n",
       " Row(DE_MUNICIP=u'REVILLA DE COLLAZOS', avg(total)=2140.5956284153003, label=0.0),\n",
       " Row(DE_MUNICIP=u'CASTRILLO DE VILLAVEGA', avg(total)=1661.4426229508197, label=0.0),\n",
       " Row(DE_MUNICIP=u'SOLORZANO', avg(total)=4080.195355191257, label=1.0),\n",
       " Row(DE_MUNICIP=u'MOGAN', avg(total)=644.5983606557377, label=0.0),\n",
       " Row(DE_MUNICIP=u'CASTROJERIZ', avg(total)=1651.74043715847, label=0.0),\n",
       " Row(DE_MUNICIP=u'SANTILLANA', avg(total)=4151.131147540984, label=1.0),\n",
       " Row(DE_MUNICIP=u'JEREZ DE LA FRONTERA', avg(total)=4686.12661498708, label=1.0),\n",
       " Row(DE_MUNICIP=u'SITGES', avg(total)=1909.172972972973, label=0.0),\n",
       " Row(DE_MUNICIP=u'IZNATORAF', avg(total)=0.0, label=0.0)]"
      ]
     },
     "execution_count": 42,
     "metadata": {},
     "output_type": "execute_result"
    }
   ],
   "source": [
    "binarizedDF.take(40)"
   ]
  },
  {
   "cell_type": "code",
   "execution_count": 43,
   "metadata": {},
   "outputs": [
    {
     "data": {
      "text/plain": [
       "(262, 62)"
      ]
     },
     "execution_count": 43,
     "metadata": {},
     "output_type": "execute_result"
    }
   ],
   "source": [
    "from pyspark.ml.linalg import Vector\n",
    "from pyspark.ml.feature import VectorAssembler\n",
    "featureColumns=['avg(total)']\n",
    "assembler = VectorAssembler(inputCols=featureColumns,outputCol=\"features\")\n",
    "assembled=assembler.transform(binarizedDF)\n",
    "(trainingData,testData)=assembled.randomSplit([0.8,0.2],seed=13234)\n",
    "trainingData.count(),testData.count()"
   ]
  },
  {
   "cell_type": "code",
   "execution_count": 44,
   "metadata": {},
   "outputs": [],
   "source": [
    "from pyspark.ml.classification import DecisionTreeClassifier\n",
    "dt= DecisionTreeClassifier(labelCol=\"label\",featuresCol=\"features\",\n",
    "                           maxDepth=2,minInstancesPerNode=20,\n",
    "                           impurity=\"gini\")"
   ]
  },
  {
   "cell_type": "code",
   "execution_count": 45,
   "metadata": {},
   "outputs": [],
   "source": [
    "from pyspark.ml import Pipeline\n",
    "pipeline =Pipeline(stages=[dt])\n",
    "model=pipeline.fit(trainingData)\n"
   ]
  },
  {
   "cell_type": "code",
   "execution_count": 46,
   "metadata": {},
   "outputs": [
    {
     "data": {
      "text/plain": [
       "DataFrame[DE_MUNICIP: string, avg(total): double, label: double, features: vector, rawPrediction: vector, probability: vector, prediction: double]"
      ]
     },
     "execution_count": 46,
     "metadata": {},
     "output_type": "execute_result"
    }
   ],
   "source": [
    "predictions=model.transform(testData)\n",
    "predictions"
   ]
  },
  {
   "cell_type": "code",
   "execution_count": 47,
   "metadata": {},
   "outputs": [
    {
     "name": "stdout",
     "output_type": "stream",
     "text": [
      "+--------------------+------------------+----------+-----+\n",
      "|          DE_MUNICIP|        avg(total)|prediction|label|\n",
      "+--------------------+------------------+----------+-----+\n",
      "|          LA GUANCHA|146.05555555555554|       0.0|  0.0|\n",
      "|CILLORIGO DE LIEBANA| 2463.300385728062|       0.0|  0.0|\n",
      "|                TAMA| 2339.045397225725|       0.0|  0.0|\n",
      "|             POLANCO| 3634.116557183763|       1.0|  1.0|\n",
      "| REVILLA DE COLLAZOS|2140.5956284153003|       0.0|  0.0|\n",
      "|           IZNATORAF|               0.0|       0.0|  0.0|\n",
      "|          LA IGLESIA|1655.1188524590164|       0.0|  0.0|\n",
      "|          CASTELLOLI| 6315.241935483871|       1.0|  1.0|\n",
      "|SANTA COLOMA DE G...| 2976.877043693341|       0.0|  0.0|\n",
      "|VALLE DE VALDEBEZANA| 4411.536885245901|       1.0|  1.0|\n",
      "|L'HOSPITALET DE L...| 2772.454200629489|       0.0|  0.0|\n",
      "|ALMONACID DE LA S...|2199.5896824786655|       0.0|  0.0|\n",
      "|            BADALONA| 3114.496272134203|       0.0|  0.0|\n",
      "|            GINESTAR| 7800.261904761905|       1.0|  1.0|\n",
      "|           HERRERIAS|3835.4708196721313|       1.0|  1.0|\n",
      "|              REOCIN| 4454.918032786885|       1.0|  1.0|\n",
      "|             ALMERIA| 5741.625871908687|       1.0|  1.0|\n",
      "|             PENAGOS|3935.9317091177554|       1.0|  1.0|\n",
      "|    MIERES DEL CAMIN| 2167.817391304348|       0.0|  0.0|\n",
      "|     OSORNO LA MAYOR| 2389.972131147541|       0.0|  0.0|\n",
      "+--------------------+------------------+----------+-----+\n",
      "only showing top 20 rows\n",
      "\n"
     ]
    }
   ],
   "source": [
    "predictions.select(\"DE_MUNICIP\",\"avg(total)\",\"prediction\",\"label\").show()"
   ]
  },
  {
   "cell_type": "code",
   "execution_count": 48,
   "metadata": {},
   "outputs": [],
   "source": [
    "#predictions.select(\"prediction\",\"label\").write.save(path=\"prediccionesHulio\",format=\"com.databricks.spark.csv\",header=\"true\")"
   ]
  },
  {
   "cell_type": "code",
   "execution_count": null,
   "metadata": {},
   "outputs": [],
   "source": []
  },
  {
   "cell_type": "code",
   "execution_count": null,
   "metadata": {},
   "outputs": [],
   "source": []
  },
  {
   "cell_type": "code",
   "execution_count": null,
   "metadata": {},
   "outputs": [],
   "source": []
  }
 ],
 "metadata": {
  "kernelspec": {
   "display_name": "Python 2",
   "language": "python",
   "name": "python2"
  },
  "language_info": {
   "codemirror_mode": {
    "name": "ipython",
    "version": 2
   },
   "file_extension": ".py",
   "mimetype": "text/x-python",
   "name": "python",
   "nbconvert_exporter": "python",
   "pygments_lexer": "ipython2",
   "version": "2.7.14"
  }
 },
 "nbformat": 4,
 "nbformat_minor": 2
}
