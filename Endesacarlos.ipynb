{
 "cells": [
  {
   "cell_type": "code",
   "execution_count": 1,
   "metadata": {},
   "outputs": [
    {
     "ename": "SyntaxError",
     "evalue": "invalid syntax (<ipython-input-1-895d3a76243b>, line 2)",
     "output_type": "error",
     "traceback": [
      "\u001b[0;36m  File \u001b[0;32m\"<ipython-input-1-895d3a76243b>\"\u001b[0;36m, line \u001b[0;32m2\u001b[0m\n\u001b[0;31m    from  import SparkConf, SparkContext\u001b[0m\n\u001b[0m               ^\u001b[0m\n\u001b[0;31mSyntaxError\u001b[0m\u001b[0;31m:\u001b[0m invalid syntax\n"
     ]
    }
   ],
   "source": [
    "\n",
    "from  import SparkConf, SparkContext\n",
    "from pyspark.sql import SQLContext\n",
    "\n",
    "sqlCtx=SQLContext(sc)\n",
    "df = sqlCtx.read.option(\"delimiter\", \"|\").load('DATATHON_secuencial.csv', \n",
    "                     format='com.databricks.spark.csv', header='true',separator='|',\n",
    "                     inferSchema='true')"
   ]
  },
  {
   "cell_type": "code",
   "execution_count": 5,
   "metadata": {},
   "outputs": [
    {
     "data": {
      "text/plain": [
       "['DIA',\n",
       " 'H1',\n",
       " 'ACTIVA_H1',\n",
       " 'REACTIVA_H1',\n",
       " 'H2',\n",
       " 'ACTIVA_H2',\n",
       " 'REACTIVA_H2',\n",
       " 'H3',\n",
       " 'ACTIVA_H3',\n",
       " 'REACTIVA_H3',\n",
       " 'H4',\n",
       " 'ACTIVA_H4',\n",
       " 'REACTIVA_H4',\n",
       " 'H5',\n",
       " 'ACTIVA_H5',\n",
       " 'REACTIVA_H5',\n",
       " 'H6',\n",
       " 'ACTIVA_H6',\n",
       " 'REACTIVA_H6',\n",
       " 'H7',\n",
       " 'ACTIVA_H7',\n",
       " 'REACTIVA_H7',\n",
       " 'H8',\n",
       " 'ACTIVA_H8',\n",
       " 'REACTIVA_H8',\n",
       " 'H9',\n",
       " 'ACTIVA_H9',\n",
       " 'REACTIVA_H9',\n",
       " 'H10',\n",
       " 'ACTIVA_H10',\n",
       " 'REACTIVA_H10',\n",
       " 'H11',\n",
       " 'ACTIVA_H11',\n",
       " 'REACTIVA_H11',\n",
       " 'H12',\n",
       " 'ACTIVA_H12',\n",
       " 'REACTIVA_H12',\n",
       " 'H13',\n",
       " 'ACTIVA_H13',\n",
       " 'REACTIVA_H13',\n",
       " 'H14',\n",
       " 'ACTIVA_H14',\n",
       " 'REACTIVA_H14',\n",
       " 'H15',\n",
       " 'ACTIVA_H15',\n",
       " 'REACTIVA_H15',\n",
       " 'H16',\n",
       " 'ACTIVA_H16',\n",
       " 'REACTIVA_H16',\n",
       " 'H17',\n",
       " 'ACTIVA_H17',\n",
       " 'REACTIVA_H17',\n",
       " 'H18',\n",
       " 'ACTIVA_H18',\n",
       " 'REACTIVA_H18',\n",
       " 'H19',\n",
       " 'ACTIVA_H19',\n",
       " 'REACTIVA_H19',\n",
       " 'H20',\n",
       " 'ACTIVA_H20',\n",
       " 'REACTIVA_H20',\n",
       " 'H21',\n",
       " 'ACTIVA_H21',\n",
       " 'REACTIVA_H21',\n",
       " 'H22',\n",
       " 'ACTIVA_H22',\n",
       " 'REACTIVA_H22',\n",
       " 'H23',\n",
       " 'ACTIVA_H23',\n",
       " 'REACTIVA_H23',\n",
       " 'H24',\n",
       " 'ACTIVA_H24',\n",
       " 'REACTIVA_H24',\n",
       " 'H25',\n",
       " 'ACTIVA_H25',\n",
       " 'REACTIVA_H25',\n",
       " 'DE_MUNICIP',\n",
       " 'FECHA_ALTA_STRO',\n",
       " 'TARGET_TENENCIA_CUPS',\n",
       " 'IDENTIFICADOR',\n",
       " 'CNAE',\n",
       " 'PRODUCTO',\n",
       " 'MERCADO']"
      ]
     },
     "execution_count": 5,
     "metadata": {},
     "output_type": "execute_result"
    }
   ],
   "source": [
    "df.columns"
   ]
  },
  {
   "cell_type": "code",
   "execution_count": 6,
   "metadata": {},
   "outputs": [
    {
     "data": {
      "text/plain": [
       "32870474"
      ]
     },
     "execution_count": 6,
     "metadata": {},
     "output_type": "execute_result"
    }
   ],
   "source": [
    "df.count()\n",
    "\n"
   ]
  },
  {
   "cell_type": "code",
   "execution_count": 7,
   "metadata": {},
   "outputs": [],
   "source": [
    "dtf=df.na.drop()"
   ]
  },
  {
   "cell_type": "code",
   "execution_count": 8,
   "metadata": {},
   "outputs": [
    {
     "data": {
      "text/plain": [
       "24728862"
      ]
     },
     "execution_count": 8,
     "metadata": {},
     "output_type": "execute_result"
    }
   ],
   "source": [
    "dtf.count()"
   ]
  },
  {
   "cell_type": "code",
   "execution_count": 9,
   "metadata": {},
   "outputs": [
    {
     "name": "stdout",
     "output_type": "stream",
     "text": [
      "root\n",
      " |-- DIA: integer (nullable = true)\n",
      " |-- H1: integer (nullable = true)\n",
      " |-- ACTIVA_H1: integer (nullable = true)\n",
      " |-- REACTIVA_H1: integer (nullable = true)\n",
      " |-- H2: integer (nullable = true)\n",
      " |-- ACTIVA_H2: integer (nullable = true)\n",
      " |-- REACTIVA_H2: integer (nullable = true)\n",
      " |-- H3: integer (nullable = true)\n",
      " |-- ACTIVA_H3: integer (nullable = true)\n",
      " |-- REACTIVA_H3: integer (nullable = true)\n",
      " |-- H4: integer (nullable = true)\n",
      " |-- ACTIVA_H4: integer (nullable = true)\n",
      " |-- REACTIVA_H4: integer (nullable = true)\n",
      " |-- H5: integer (nullable = true)\n",
      " |-- ACTIVA_H5: integer (nullable = true)\n",
      " |-- REACTIVA_H5: integer (nullable = true)\n",
      " |-- H6: integer (nullable = true)\n",
      " |-- ACTIVA_H6: integer (nullable = true)\n",
      " |-- REACTIVA_H6: integer (nullable = true)\n",
      " |-- H7: integer (nullable = true)\n",
      " |-- ACTIVA_H7: integer (nullable = true)\n",
      " |-- REACTIVA_H7: integer (nullable = true)\n",
      " |-- H8: integer (nullable = true)\n",
      " |-- ACTIVA_H8: integer (nullable = true)\n",
      " |-- REACTIVA_H8: integer (nullable = true)\n",
      " |-- H9: integer (nullable = true)\n",
      " |-- ACTIVA_H9: integer (nullable = true)\n",
      " |-- REACTIVA_H9: integer (nullable = true)\n",
      " |-- H10: integer (nullable = true)\n",
      " |-- ACTIVA_H10: integer (nullable = true)\n",
      " |-- REACTIVA_H10: integer (nullable = true)\n",
      " |-- H11: integer (nullable = true)\n",
      " |-- ACTIVA_H11: integer (nullable = true)\n",
      " |-- REACTIVA_H11: integer (nullable = true)\n",
      " |-- H12: integer (nullable = true)\n",
      " |-- ACTIVA_H12: integer (nullable = true)\n",
      " |-- REACTIVA_H12: integer (nullable = true)\n",
      " |-- H13: integer (nullable = true)\n",
      " |-- ACTIVA_H13: integer (nullable = true)\n",
      " |-- REACTIVA_H13: integer (nullable = true)\n",
      " |-- H14: integer (nullable = true)\n",
      " |-- ACTIVA_H14: integer (nullable = true)\n",
      " |-- REACTIVA_H14: integer (nullable = true)\n",
      " |-- H15: integer (nullable = true)\n",
      " |-- ACTIVA_H15: integer (nullable = true)\n",
      " |-- REACTIVA_H15: integer (nullable = true)\n",
      " |-- H16: integer (nullable = true)\n",
      " |-- ACTIVA_H16: integer (nullable = true)\n",
      " |-- REACTIVA_H16: integer (nullable = true)\n",
      " |-- H17: integer (nullable = true)\n",
      " |-- ACTIVA_H17: integer (nullable = true)\n",
      " |-- REACTIVA_H17: integer (nullable = true)\n",
      " |-- H18: integer (nullable = true)\n",
      " |-- ACTIVA_H18: integer (nullable = true)\n",
      " |-- REACTIVA_H18: integer (nullable = true)\n",
      " |-- H19: integer (nullable = true)\n",
      " |-- ACTIVA_H19: integer (nullable = true)\n",
      " |-- REACTIVA_H19: integer (nullable = true)\n",
      " |-- H20: integer (nullable = true)\n",
      " |-- ACTIVA_H20: integer (nullable = true)\n",
      " |-- REACTIVA_H20: integer (nullable = true)\n",
      " |-- H21: integer (nullable = true)\n",
      " |-- ACTIVA_H21: integer (nullable = true)\n",
      " |-- REACTIVA_H21: integer (nullable = true)\n",
      " |-- H22: integer (nullable = true)\n",
      " |-- ACTIVA_H22: integer (nullable = true)\n",
      " |-- REACTIVA_H22: integer (nullable = true)\n",
      " |-- H23: integer (nullable = true)\n",
      " |-- ACTIVA_H23: integer (nullable = true)\n",
      " |-- REACTIVA_H23: integer (nullable = true)\n",
      " |-- H24: integer (nullable = true)\n",
      " |-- ACTIVA_H24: integer (nullable = true)\n",
      " |-- REACTIVA_H24: integer (nullable = true)\n",
      " |-- H25: integer (nullable = true)\n",
      " |-- ACTIVA_H25: integer (nullable = true)\n",
      " |-- REACTIVA_H25: integer (nullable = true)\n",
      " |-- DE_MUNICIP: string (nullable = true)\n",
      " |-- FECHA_ALTA_STRO: string (nullable = true)\n",
      " |-- TARGET_TENENCIA_CUPS: double (nullable = true)\n",
      " |-- IDENTIFICADOR: integer (nullable = true)\n",
      " |-- CNAE: string (nullable = true)\n",
      " |-- PRODUCTO: string (nullable = true)\n",
      " |-- MERCADO: string (nullable = true)\n",
      "\n"
     ]
    }
   ],
   "source": [
    "dtf.printSchema()"
   ]
  },
  {
   "cell_type": "code",
   "execution_count": 10,
   "metadata": {},
   "outputs": [
    {
     "data": {
      "text/plain": [
       "[Row(DIA=20150222, H1=1, ACTIVA_H1=1922, REACTIVA_H1=0, H2=2, ACTIVA_H2=523, REACTIVA_H2=0, H3=3, ACTIVA_H3=125, REACTIVA_H3=0, H4=4, ACTIVA_H4=297, REACTIVA_H4=0, H5=5, ACTIVA_H5=124, REACTIVA_H5=0, H6=6, ACTIVA_H6=150, REACTIVA_H6=0, H7=7, ACTIVA_H7=284, REACTIVA_H7=0, H8=8, ACTIVA_H8=458, REACTIVA_H8=0, H9=9, ACTIVA_H9=2016, REACTIVA_H9=0, H10=10, ACTIVA_H10=344, REACTIVA_H10=0, H11=11, ACTIVA_H11=2379, REACTIVA_H11=0, H12=12, ACTIVA_H12=2250, REACTIVA_H12=0, H13=13, ACTIVA_H13=978, REACTIVA_H13=0, H14=14, ACTIVA_H14=1946, REACTIVA_H14=0, H15=15, ACTIVA_H15=1796, REACTIVA_H15=0, H16=16, ACTIVA_H16=2986, REACTIVA_H16=0, H17=17, ACTIVA_H17=1595, REACTIVA_H17=0, H18=18, ACTIVA_H18=421, REACTIVA_H18=0, H19=19, ACTIVA_H19=689, REACTIVA_H19=0, H20=20, ACTIVA_H20=1504, REACTIVA_H20=0, H21=21, ACTIVA_H21=814, REACTIVA_H21=0, H22=22, ACTIVA_H22=1755, REACTIVA_H22=0, H23=23, ACTIVA_H23=2188, REACTIVA_H23=0, H24=24, ACTIVA_H24=1237, REACTIVA_H24=0, H25=25, ACTIVA_H25=0, REACTIVA_H25=0, DE_MUNICIP=u'SANT BOI DE LLOBREGAT', FECHA_ALTA_STRO=u'Q21993', TARGET_TENENCIA_CUPS=0.0, IDENTIFICADOR=18005, CNAE=u'T1', PRODUCTO=u'P2', MERCADO=u'M1'),\n",
       " Row(DIA=20150323, H1=1, ACTIVA_H1=0, REACTIVA_H1=0, H2=2, ACTIVA_H2=0, REACTIVA_H2=0, H3=3, ACTIVA_H3=0, REACTIVA_H3=0, H4=4, ACTIVA_H4=0, REACTIVA_H4=0, H5=5, ACTIVA_H5=0, REACTIVA_H5=0, H6=6, ACTIVA_H6=0, REACTIVA_H6=0, H7=7, ACTIVA_H7=0, REACTIVA_H7=0, H8=8, ACTIVA_H8=0, REACTIVA_H8=0, H9=9, ACTIVA_H9=0, REACTIVA_H9=0, H10=10, ACTIVA_H10=0, REACTIVA_H10=0, H11=11, ACTIVA_H11=0, REACTIVA_H11=0, H12=12, ACTIVA_H12=0, REACTIVA_H12=0, H13=13, ACTIVA_H13=0, REACTIVA_H13=0, H14=14, ACTIVA_H14=0, REACTIVA_H14=0, H15=15, ACTIVA_H15=0, REACTIVA_H15=0, H16=16, ACTIVA_H16=0, REACTIVA_H16=0, H17=17, ACTIVA_H17=0, REACTIVA_H17=0, H18=18, ACTIVA_H18=0, REACTIVA_H18=0, H19=19, ACTIVA_H19=0, REACTIVA_H19=0, H20=20, ACTIVA_H20=0, REACTIVA_H20=0, H21=21, ACTIVA_H21=0, REACTIVA_H21=0, H22=22, ACTIVA_H22=0, REACTIVA_H22=0, H23=23, ACTIVA_H23=0, REACTIVA_H23=0, H24=24, ACTIVA_H24=0, REACTIVA_H24=0, H25=25, ACTIVA_H25=0, REACTIVA_H25=0, DE_MUNICIP=u'TORROX', FECHA_ALTA_STRO=u'Q32003', TARGET_TENENCIA_CUPS=0.0, IDENTIFICADOR=50311, CNAE=u'T1', PRODUCTO=u'P1', MERCADO=u'M1')]"
      ]
     },
     "execution_count": 10,
     "metadata": {},
     "output_type": "execute_result"
    }
   ],
   "source": [
    "dtf.take(2)"
   ]
  },
  {
   "cell_type": "code",
   "execution_count": 14,
   "metadata": {},
   "outputs": [],
   "source": [
    "dtf=dtf.drop(\"FECHA_ALTA_STRO\")\n",
    "dtf=dtf.drop(\"PRODUCTO\")\n"
   ]
  },
  {
   "cell_type": "code",
   "execution_count": null,
   "metadata": {},
   "outputs": [],
   "source": []
  },
  {
   "cell_type": "code",
   "execution_count": 26,
   "metadata": {},
   "outputs": [],
   "source": [
    "dd=dtf.filter(dtf.MERCADO==\"M2\")"
   ]
  },
  {
   "cell_type": "code",
   "execution_count": 27,
   "metadata": {},
   "outputs": [
    {
     "data": {
      "text/plain": [
       "6041843"
      ]
     },
     "execution_count": 27,
     "metadata": {},
     "output_type": "execute_result"
    }
   ],
   "source": [
    "dd.count()"
   ]
  },
  {
   "cell_type": "code",
   "execution_count": 28,
   "metadata": {},
   "outputs": [],
   "source": [
    "dd.write.save(path=\"datos\",format=\"com.databricks.spark.csv\",header=\"true\")"
   ]
  },
  {
   "cell_type": "code",
   "execution_count": 29,
   "metadata": {},
   "outputs": [],
   "source": [
    "dd1=sqlContext.read.load('datos',format='com.databricks.spark.csv',\n",
    "                                header='true',inferSchema='true')"
   ]
  },
  {
   "cell_type": "code",
   "execution_count": 12,
   "metadata": {},
   "outputs": [
    {
     "ename": "AttributeError",
     "evalue": "'DataFrame' object has no attribute 'CNAE'",
     "output_type": "error",
     "traceback": [
      "\u001b[0;31m---------------------------------------------------------------------------\u001b[0m",
      "\u001b[0;31mAttributeError\u001b[0m                            Traceback (most recent call last)",
      "\u001b[0;32m<ipython-input-12-5e82d992ec63>\u001b[0m in \u001b[0;36m<module>\u001b[0;34m()\u001b[0m\n\u001b[1;32m      2\u001b[0m \u001b[0mdd1\u001b[0m\u001b[0;34m=\u001b[0m\u001b[0mdd1\u001b[0m\u001b[0;34m.\u001b[0m\u001b[0mdrop\u001b[0m\u001b[0;34m(\u001b[0m\u001b[0;34m'MERCADO'\u001b[0m\u001b[0;34m)\u001b[0m\u001b[0;34m\u001b[0m\u001b[0m\n\u001b[1;32m      3\u001b[0m \u001b[0mdd1\u001b[0m\u001b[0;34m=\u001b[0m\u001b[0mdd1\u001b[0m\u001b[0;34m.\u001b[0m\u001b[0mdrop\u001b[0m\u001b[0;34m(\u001b[0m\u001b[0;34m'IDENTIFICADOR'\u001b[0m\u001b[0;34m)\u001b[0m\u001b[0;34m\u001b[0m\u001b[0m\n\u001b[0;32m----> 4\u001b[0;31m \u001b[0mdd1\u001b[0m\u001b[0;34m=\u001b[0m\u001b[0mdd1\u001b[0m\u001b[0;34m.\u001b[0m\u001b[0mfilter\u001b[0m\u001b[0;34m(\u001b[0m\u001b[0mdd1\u001b[0m\u001b[0;34m.\u001b[0m\u001b[0mCNAE\u001b[0m\u001b[0;34m==\u001b[0m\u001b[0;34m\"T1\"\u001b[0m\u001b[0;34m)\u001b[0m\u001b[0;34m\u001b[0m\u001b[0m\n\u001b[0m\u001b[1;32m      5\u001b[0m \u001b[0mdd1\u001b[0m\u001b[0;34m=\u001b[0m\u001b[0mdd1\u001b[0m\u001b[0;34m.\u001b[0m\u001b[0mdrop\u001b[0m\u001b[0;34m(\u001b[0m\u001b[0;34m'CNAE'\u001b[0m\u001b[0;34m)\u001b[0m\u001b[0;34m\u001b[0m\u001b[0m\n",
      "\u001b[0;32m/usr/lib/spark/python/pyspark/sql/dataframe.pyc\u001b[0m in \u001b[0;36m__getattr__\u001b[0;34m(self, name)\u001b[0m\n\u001b[1;32m   1018\u001b[0m         \u001b[0;32mif\u001b[0m \u001b[0mname\u001b[0m \u001b[0;32mnot\u001b[0m \u001b[0;32min\u001b[0m \u001b[0mself\u001b[0m\u001b[0;34m.\u001b[0m\u001b[0mcolumns\u001b[0m\u001b[0;34m:\u001b[0m\u001b[0;34m\u001b[0m\u001b[0m\n\u001b[1;32m   1019\u001b[0m             raise AttributeError(\n\u001b[0;32m-> 1020\u001b[0;31m                 \"'%s' object has no attribute '%s'\" % (self.__class__.__name__, name))\n\u001b[0m\u001b[1;32m   1021\u001b[0m         \u001b[0mjc\u001b[0m \u001b[0;34m=\u001b[0m \u001b[0mself\u001b[0m\u001b[0;34m.\u001b[0m\u001b[0m_jdf\u001b[0m\u001b[0;34m.\u001b[0m\u001b[0mapply\u001b[0m\u001b[0;34m(\u001b[0m\u001b[0mname\u001b[0m\u001b[0;34m)\u001b[0m\u001b[0;34m\u001b[0m\u001b[0m\n\u001b[1;32m   1022\u001b[0m         \u001b[0;32mreturn\u001b[0m \u001b[0mColumn\u001b[0m\u001b[0;34m(\u001b[0m\u001b[0mjc\u001b[0m\u001b[0;34m)\u001b[0m\u001b[0;34m\u001b[0m\u001b[0m\n",
      "\u001b[0;31mAttributeError\u001b[0m: 'DataFrame' object has no attribute 'CNAE'"
     ]
    }
   ],
   "source": [
    "dd1=dd1.drop('TARGET_TENENCIA_CUPS')\n",
    "dd1=dd1.drop('MERCADO')\n",
    "dd1=dd1.drop('IDENTIFICADOR')\n",
    "dd1=dd1.filter(dd1.CNAE==\"T1\")"
   ]
  },
  {
   "cell_type": "code",
   "execution_count": 37,
   "metadata": {},
   "outputs": [],
   "source": [
    "dd1.write.save(path=\"datos2\",format=\"com.databricks.spark.csv\",header=\"true\")"
   ]
  },
  {
   "cell_type": "code",
   "execution_count": 2,
   "metadata": {},
   "outputs": [],
   "source": [
    "dd1=sqlContext.read.load('datos2',format='com.databricks.spark.csv',\n",
    "                                header='true',inferSchema='true')\n"
   ]
  },
  {
   "cell_type": "code",
   "execution_count": 3,
   "metadata": {
    "scrolled": true
   },
   "outputs": [],
   "source": [
    "hour = ''\n",
    "reactive = ''\n",
    "for i in range(1,26):\n",
    "    hour = 'H'+str(i)\n",
    "    reactive = 'REACTIVA_H'+str(i)\n",
    "    #print(hour)\n",
    "    dd1=dd1.drop(hour)\n",
    "    dd1=dd1.drop(reactive)\n"
   ]
  },
  {
   "cell_type": "code",
   "execution_count": 4,
   "metadata": {},
   "outputs": [],
   "source": [
    "dd1=dd1.drop('CNAE')"
   ]
  },
  {
   "cell_type": "code",
   "execution_count": 5,
   "metadata": {},
   "outputs": [
    {
     "data": {
      "text/plain": [
       "['DIA',\n",
       " 'ACTIVA_H1',\n",
       " 'ACTIVA_H2',\n",
       " 'ACTIVA_H3',\n",
       " 'ACTIVA_H4',\n",
       " 'ACTIVA_H5',\n",
       " 'ACTIVA_H6',\n",
       " 'ACTIVA_H7',\n",
       " 'ACTIVA_H8',\n",
       " 'ACTIVA_H9',\n",
       " 'ACTIVA_H10',\n",
       " 'ACTIVA_H11',\n",
       " 'ACTIVA_H12',\n",
       " 'ACTIVA_H13',\n",
       " 'ACTIVA_H14',\n",
       " 'ACTIVA_H15',\n",
       " 'ACTIVA_H16',\n",
       " 'ACTIVA_H17',\n",
       " 'ACTIVA_H18',\n",
       " 'ACTIVA_H19',\n",
       " 'ACTIVA_H20',\n",
       " 'ACTIVA_H21',\n",
       " 'ACTIVA_H22',\n",
       " 'ACTIVA_H23',\n",
       " 'ACTIVA_H24',\n",
       " 'ACTIVA_H25',\n",
       " 'DE_MUNICIP']"
      ]
     },
     "execution_count": 5,
     "metadata": {},
     "output_type": "execute_result"
    }
   ],
   "source": [
    "dd1.columns"
   ]
  },
  {
   "cell_type": "code",
   "execution_count": 6,
   "metadata": {},
   "outputs": [
    {
     "data": {
      "text/plain": [
       "5215011"
      ]
     },
     "execution_count": 6,
     "metadata": {},
     "output_type": "execute_result"
    }
   ],
   "source": [
    "dd1.count()"
   ]
  },
  {
   "cell_type": "code",
   "execution_count": 7,
   "metadata": {},
   "outputs": [
    {
     "data": {
      "text/plain": [
       "[Row(DIA=20150602, ACTIVA_H1=57, ACTIVA_H2=79, ACTIVA_H3=85, ACTIVA_H4=60, ACTIVA_H5=59, ACTIVA_H6=86, ACTIVA_H7=75, ACTIVA_H8=55, ACTIVA_H9=67, ACTIVA_H10=91, ACTIVA_H11=55, ACTIVA_H12=57, ACTIVA_H13=87, ACTIVA_H14=74, ACTIVA_H15=57, ACTIVA_H16=71, ACTIVA_H17=293, ACTIVA_H18=210, ACTIVA_H19=70, ACTIVA_H20=63, ACTIVA_H21=93, ACTIVA_H22=75, ACTIVA_H23=61, ACTIVA_H24=73, ACTIVA_H25=0, DE_MUNICIP=u'UBRIQUE'),\n",
       " Row(DIA=20150816, ACTIVA_H1=0, ACTIVA_H2=0, ACTIVA_H3=0, ACTIVA_H4=0, ACTIVA_H5=0, ACTIVA_H6=0, ACTIVA_H7=0, ACTIVA_H8=0, ACTIVA_H9=0, ACTIVA_H10=0, ACTIVA_H11=0, ACTIVA_H12=0, ACTIVA_H13=0, ACTIVA_H14=0, ACTIVA_H15=0, ACTIVA_H16=0, ACTIVA_H17=0, ACTIVA_H18=0, ACTIVA_H19=0, ACTIVA_H20=0, ACTIVA_H21=0, ACTIVA_H22=0, ACTIVA_H23=0, ACTIVA_H24=0, ACTIVA_H25=0, DE_MUNICIP=u'SANTA EULARIA DES RIU')]"
      ]
     },
     "execution_count": 7,
     "metadata": {},
     "output_type": "execute_result"
    }
   ],
   "source": [
    "dd1.take(2)"
   ]
  },
  {
   "cell_type": "code",
   "execution_count": 17,
   "metadata": {},
   "outputs": [],
   "source": [
    "def is_error(line):\n",
    "    print line\n",
    "    if(line<=6 & line >=9):\n",
    "        return True\n",
    "    else:\n",
    "        return False"
   ]
  },
  {
   "cell_type": "code",
   "execution_count": 5,
   "metadata": {},
   "outputs": [],
   "source": [
    "from pyspark.sql.functions import col\n",
    "\n",
    "dd12=dd1.where(col('DIA') <=20150930 )\n",
    "dd123=dd12.where(col('DIA') >= 20150601 )"
   ]
  },
  {
   "cell_type": "code",
   "execution_count": 9,
   "metadata": {},
   "outputs": [
    {
     "data": {
      "text/plain": [
       "5156311"
      ]
     },
     "execution_count": 9,
     "metadata": {},
     "output_type": "execute_result"
    }
   ],
   "source": [
    "dd12.count()\n"
   ]
  },
  {
   "cell_type": "code",
   "execution_count": 10,
   "metadata": {},
   "outputs": [
    {
     "data": {
      "text/plain": [
       "1911989"
      ]
     },
     "execution_count": 10,
     "metadata": {},
     "output_type": "execute_result"
    }
   ],
   "source": [
    "dd123.count()"
   ]
  },
  {
   "cell_type": "code",
   "execution_count": 11,
   "metadata": {},
   "outputs": [
    {
     "data": {
      "text/plain": [
       "[Row(DIA=20150602, ACTIVA_H1=57, ACTIVA_H2=79, ACTIVA_H3=85, ACTIVA_H4=60, ACTIVA_H5=59, ACTIVA_H6=86, ACTIVA_H7=75, ACTIVA_H8=55, ACTIVA_H9=67, ACTIVA_H10=91, ACTIVA_H11=55, ACTIVA_H12=57, ACTIVA_H13=87, ACTIVA_H14=74, ACTIVA_H15=57, ACTIVA_H16=71, ACTIVA_H17=293, ACTIVA_H18=210, ACTIVA_H19=70, ACTIVA_H20=63, ACTIVA_H21=93, ACTIVA_H22=75, ACTIVA_H23=61, ACTIVA_H24=73, ACTIVA_H25=0, DE_MUNICIP=u'UBRIQUE'),\n",
       " Row(DIA=20150816, ACTIVA_H1=0, ACTIVA_H2=0, ACTIVA_H3=0, ACTIVA_H4=0, ACTIVA_H5=0, ACTIVA_H6=0, ACTIVA_H7=0, ACTIVA_H8=0, ACTIVA_H9=0, ACTIVA_H10=0, ACTIVA_H11=0, ACTIVA_H12=0, ACTIVA_H13=0, ACTIVA_H14=0, ACTIVA_H15=0, ACTIVA_H16=0, ACTIVA_H17=0, ACTIVA_H18=0, ACTIVA_H19=0, ACTIVA_H20=0, ACTIVA_H21=0, ACTIVA_H22=0, ACTIVA_H23=0, ACTIVA_H24=0, ACTIVA_H25=0, DE_MUNICIP=u'SANTA EULARIA DES RIU'),\n",
       " Row(DIA=20150713, ACTIVA_H1=76, ACTIVA_H2=84, ACTIVA_H3=87, ACTIVA_H4=77, ACTIVA_H5=74, ACTIVA_H6=75, ACTIVA_H7=88, ACTIVA_H8=1266, ACTIVA_H9=1339, ACTIVA_H10=1328, ACTIVA_H11=1318, ACTIVA_H12=161, ACTIVA_H13=86, ACTIVA_H14=81, ACTIVA_H15=1196, ACTIVA_H16=768, ACTIVA_H17=84, ACTIVA_H18=85, ACTIVA_H19=1234, ACTIVA_H20=1327, ACTIVA_H21=1332, ACTIVA_H22=807, ACTIVA_H23=86, ACTIVA_H24=77, ACTIVA_H25=0, DE_MUNICIP=u'SANT PERE DE RIBES'),\n",
       " Row(DIA=20150721, ACTIVA_H1=311, ACTIVA_H2=272, ACTIVA_H3=243, ACTIVA_H4=174, ACTIVA_H5=193, ACTIVA_H6=264, ACTIVA_H7=259, ACTIVA_H8=214, ACTIVA_H9=169, ACTIVA_H10=844, ACTIVA_H11=469, ACTIVA_H12=1291, ACTIVA_H13=1158, ACTIVA_H14=1099, ACTIVA_H15=1658, ACTIVA_H16=572, ACTIVA_H17=998, ACTIVA_H18=1054, ACTIVA_H19=541, ACTIVA_H20=410, ACTIVA_H21=305, ACTIVA_H22=298, ACTIVA_H23=1176, ACTIVA_H24=1127, ACTIVA_H25=0, DE_MUNICIP=u'SANTANDER'),\n",
       " Row(DIA=20150610, ACTIVA_H1=75, ACTIVA_H2=76, ACTIVA_H3=132, ACTIVA_H4=119, ACTIVA_H5=67, ACTIVA_H6=64, ACTIVA_H7=63, ACTIVA_H8=74, ACTIVA_H9=75, ACTIVA_H10=74, ACTIVA_H11=68, ACTIVA_H12=63, ACTIVA_H13=85, ACTIVA_H14=128, ACTIVA_H15=74, ACTIVA_H16=104, ACTIVA_H17=134, ACTIVA_H18=63, ACTIVA_H19=67, ACTIVA_H20=65, ACTIVA_H21=64, ACTIVA_H22=162, ACTIVA_H23=182, ACTIVA_H24=133, ACTIVA_H25=0, DE_MUNICIP=u'MIENGO')]"
      ]
     },
     "execution_count": 11,
     "metadata": {},
     "output_type": "execute_result"
    }
   ],
   "source": [
    "dd123.take(5)"
   ]
  },
  {
   "cell_type": "code",
   "execution_count": 6,
   "metadata": {},
   "outputs": [],
   "source": [
    "dd123.write.save(path=\"datos3f\",format=\"com.databricks.spark.csv\",header=\"true\")"
   ]
  },
  {
   "cell_type": "code",
   "execution_count": 3,
   "metadata": {},
   "outputs": [],
   "source": [
    "ddfinal=sqlContext.read.load('datos3f',format='com.databricks.spark.csv',\n",
    "                                header='true',inferSchema='true')"
   ]
  },
  {
   "cell_type": "code",
   "execution_count": 4,
   "metadata": {},
   "outputs": [
    {
     "data": {
      "text/plain": [
       "1911989"
      ]
     },
     "execution_count": 4,
     "metadata": {},
     "output_type": "execute_result"
    }
   ],
   "source": [
    "ddfinal.count()"
   ]
  },
  {
   "cell_type": "code",
   "execution_count": 6,
   "metadata": {},
   "outputs": [
    {
     "data": {
      "text/plain": [
       "['DIA',\n",
       " 'ACTIVA_H1',\n",
       " 'ACTIVA_H2',\n",
       " 'ACTIVA_H3',\n",
       " 'ACTIVA_H4',\n",
       " 'ACTIVA_H5',\n",
       " 'ACTIVA_H6',\n",
       " 'ACTIVA_H7',\n",
       " 'ACTIVA_H8',\n",
       " 'ACTIVA_H9',\n",
       " 'ACTIVA_H10',\n",
       " 'ACTIVA_H11',\n",
       " 'ACTIVA_H12',\n",
       " 'ACTIVA_H13',\n",
       " 'ACTIVA_H14',\n",
       " 'ACTIVA_H15',\n",
       " 'ACTIVA_H16',\n",
       " 'ACTIVA_H17',\n",
       " 'ACTIVA_H18',\n",
       " 'ACTIVA_H19',\n",
       " 'ACTIVA_H20',\n",
       " 'ACTIVA_H21',\n",
       " 'ACTIVA_H22',\n",
       " 'ACTIVA_H23',\n",
       " 'ACTIVA_H24',\n",
       " 'ACTIVA_H25',\n",
       " 'DE_MUNICIP']"
      ]
     },
     "execution_count": 6,
     "metadata": {},
     "output_type": "execute_result"
    }
   ],
   "source": [
    "ddfinal.columns"
   ]
  },
  {
   "cell_type": "code",
   "execution_count": 20,
   "metadata": {},
   "outputs": [],
   "source": [
    "for i in range(1,11):\n",
    "    ddfinal=ddfinal.drop('ACTIVA_H'+str(i))\n",
    "    \n",
    "for j in range(22,26):\n",
    "    ddfinal=ddfinal.drop('ACTIVA_H'+str(j))"
   ]
  },
  {
   "cell_type": "code",
   "execution_count": 21,
   "metadata": {},
   "outputs": [
    {
     "data": {
      "text/plain": [
       "['DIA',\n",
       " 'ACTIVA_H11',\n",
       " 'ACTIVA_H12',\n",
       " 'ACTIVA_H13',\n",
       " 'ACTIVA_H14',\n",
       " 'ACTIVA_H15',\n",
       " 'ACTIVA_H16',\n",
       " 'ACTIVA_H17',\n",
       " 'ACTIVA_H18',\n",
       " 'ACTIVA_H19',\n",
       " 'ACTIVA_H20',\n",
       " 'ACTIVA_H21',\n",
       " 'DE_MUNICIP']"
      ]
     },
     "execution_count": 21,
     "metadata": {},
     "output_type": "execute_result"
    }
   ],
   "source": [
    "ddfinal.columns"
   ]
  },
  {
   "cell_type": "code",
   "execution_count": 23,
   "metadata": {},
   "outputs": [
    {
     "data": {
      "text/plain": [
       "DataFrame[summary: string, DIA: string, ACTIVA_H11: string, ACTIVA_H12: string, ACTIVA_H13: string, ACTIVA_H14: string, ACTIVA_H15: string, ACTIVA_H16: string, ACTIVA_H17: string, ACTIVA_H18: string, ACTIVA_H19: string, ACTIVA_H20: string, ACTIVA_H21: string, DE_MUNICIP: string]"
      ]
     },
     "execution_count": 23,
     "metadata": {},
     "output_type": "execute_result"
    }
   ],
   "source": [
    "ddfinal.describe()"
   ]
  },
  {
   "cell_type": "code",
   "execution_count": 25,
   "metadata": {},
   "outputs": [
    {
     "name": "stdout",
     "output_type": "stream",
     "text": [
      "+--------------------+\n",
      "|          DE_MUNICIP|\n",
      "+--------------------+\n",
      "|             UBRIQUE|\n",
      "|SANTA EULARIA DES...|\n",
      "|  SANT PERE DE RIBES|\n",
      "|           SANTANDER|\n",
      "|              MIENGO|\n",
      "|JEREZ DE LA FRONTERA|\n",
      "|              TORROX|\n",
      "|            VALVERDE|\n",
      "|                REUS|\n",
      "|SANT BOI DE LLOBR...|\n",
      "|           SANTANDER|\n",
      "|SANT BOI DE LLOBR...|\n",
      "|       PUENTE VIESGO|\n",
      "|SANTA COLOMA DE G...|\n",
      "|             SANTOÑA|\n",
      "|                RUBI|\n",
      "|            EL PINAR|\n",
      "|          BREÑA BAJA|\n",
      "|SANT BOI DE LLOBR...|\n",
      "|            ZARAGOZA|\n",
      "+--------------------+\n",
      "only showing top 20 rows\n",
      "\n"
     ]
    }
   ],
   "source": [
    "ddfinal.select(\"DE_MUNICIP\").show()"
   ]
  },
  {
   "cell_type": "code",
   "execution_count": 34,
   "metadata": {},
   "outputs": [],
   "source": [
    "from pyspark.sql.functions import count, avg\n",
    "dfpru=ddfinal.groupBy(\"DE_MUNICIP\").agg(count(\"*\"))"
   ]
  },
  {
   "cell_type": "code",
   "execution_count": 39,
   "metadata": {},
   "outputs": [],
   "source": [
    "dfpru=dfpru.orderBy('count(1)', ascending=False)"
   ]
  },
  {
   "cell_type": "code",
   "execution_count": 30,
   "metadata": {},
   "outputs": [
    {
     "data": {
      "text/plain": [
       "324"
      ]
     },
     "execution_count": 30,
     "metadata": {},
     "output_type": "execute_result"
    }
   ],
   "source": [
    "dfpru.count()"
   ]
  },
  {
   "cell_type": "code",
   "execution_count": 40,
   "metadata": {},
   "outputs": [
    {
     "name": "stdout",
     "output_type": "stream",
     "text": [
      "+--------------------+--------+\n",
      "|          DE_MUNICIP|count(1)|\n",
      "+--------------------+--------+\n",
      "|           SANTANDER|  196994|\n",
      "|SANT BOI DE LLOBR...|  115285|\n",
      "|              TORROX|   90305|\n",
      "|SANTA COLOMA DE G...|   88137|\n",
      "|L'HOSPITALET DE L...|   86737|\n",
      "|SANT CARLES DE LA...|   75222|\n",
      "|             UBRIQUE|   69456|\n",
      "|            ZARAGOZA|   64358|\n",
      "|              HUELVA|   63355|\n",
      "|              BAILEN|   62078|\n",
      "|  SANT PERE DE RIBES|   49714|\n",
      "|                RUBI|   47328|\n",
      "|PEÑARROYA-PUEBLON...|   46189|\n",
      "|         TORRELAVEGA|   38936|\n",
      "|             SANTOÑA|   32780|\n",
      "|              LAREDO|   23685|\n",
      "|            VALVERDE|   23648|\n",
      "|               PALMA|   23560|\n",
      "|        MEDIO CUDEYO|   22538|\n",
      "|                REUS|   21183|\n",
      "+--------------------+--------+\n",
      "only showing top 20 rows\n",
      "\n"
     ]
    }
   ],
   "source": [
    "dfpru.show()"
   ]
  },
  {
   "cell_type": "code",
   "execution_count": 42,
   "metadata": {},
   "outputs": [
    {
     "data": {
      "text/plain": [
       "[Row(DE_MUNICIP=u'SANTANDER', count(1)=196994),\n",
       " Row(DE_MUNICIP=u'SANT BOI DE LLOBREGAT', count(1)=115285),\n",
       " Row(DE_MUNICIP=u'TORROX', count(1)=90305),\n",
       " Row(DE_MUNICIP=u'SANTA COLOMA DE GRAMENET', count(1)=88137),\n",
       " Row(DE_MUNICIP=u\"L'HOSPITALET DE LLOBREGAT\", count(1)=86737),\n",
       " Row(DE_MUNICIP=u'SANT CARLES DE LA RAPITA', count(1)=75222),\n",
       " Row(DE_MUNICIP=u'UBRIQUE', count(1)=69456),\n",
       " Row(DE_MUNICIP=u'ZARAGOZA', count(1)=64358),\n",
       " Row(DE_MUNICIP=u'HUELVA', count(1)=63355),\n",
       " Row(DE_MUNICIP=u'BAILEN', count(1)=62078),\n",
       " Row(DE_MUNICIP=u'SANT PERE DE RIBES', count(1)=49714),\n",
       " Row(DE_MUNICIP=u'RUBI', count(1)=47328),\n",
       " Row(DE_MUNICIP=u'PE\\xd1ARROYA-PUEBLONUEVO', count(1)=46189),\n",
       " Row(DE_MUNICIP=u'TORRELAVEGA', count(1)=38936),\n",
       " Row(DE_MUNICIP=u'SANTO\\xd1A', count(1)=32780),\n",
       " Row(DE_MUNICIP=u'LAREDO', count(1)=23685),\n",
       " Row(DE_MUNICIP=u'VALVERDE', count(1)=23648),\n",
       " Row(DE_MUNICIP=u'PALMA', count(1)=23560),\n",
       " Row(DE_MUNICIP=u'MEDIO CUDEYO', count(1)=22538),\n",
       " Row(DE_MUNICIP=u'REUS', count(1)=21183)]"
      ]
     },
     "execution_count": 42,
     "metadata": {},
     "output_type": "execute_result"
    }
   ],
   "source": [
    "dfpru.take(20)"
   ]
  },
  {
   "cell_type": "code",
   "execution_count": 43,
   "metadata": {},
   "outputs": [
    {
     "name": "stdout",
     "output_type": "stream",
     "text": [
      "['SANT BOI DE LLOBREGAT', 'SANTA COLOMA DE GRAMENET', \"L'HOSPITALET DE LLOBREGAT\", 'SANT CARLES DE LA RAPITA', 'SANT PERE DE RIBES', 'RUBI', 'MEDIO CUDEYO', 'REUS']\n"
     ]
    }
   ],
   "source": [
    "Lista=['SANT BOI DE LLOBREGAT','SANTA COLOMA DE GRAMENET',\n",
    "       \"L'HOSPITALET DE LLOBREGAT\",'SANT CARLES DE LA RAPITA',\n",
    "       'SANT PERE DE RIBES',\n",
    "       'RUBI','MEDIO CUDEYO','REUS']\n",
    "print Lista"
   ]
  },
  {
   "cell_type": "code",
   "execution_count": null,
   "metadata": {},
   "outputs": [],
   "source": [
    "ddfinal Lista"
   ]
  }
 ],
 "metadata": {
  "kernelspec": {
   "display_name": "Python 2",
   "language": "python",
   "name": "python2"
  }
 },
 "nbformat": 4,
 "nbformat_minor": 2
}
